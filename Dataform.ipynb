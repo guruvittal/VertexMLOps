{
  "nbformat": 4,
  "nbformat_minor": 0,
  "metadata": {
    "colab": {
      "private_outputs": true,
      "provenance": [],
      "include_colab_link": true
    },
    "kernelspec": {
      "name": "python3",
      "display_name": "Python 3"
    },
    "language_info": {
      "name": "python"
    }
  },
  "cells": [
    {
      "cell_type": "markdown",
      "metadata": {
        "id": "view-in-github",
        "colab_type": "text"
      },
      "source": [
        "<a href=\"https://colab.research.google.com/github/guruvittal/VertexMLOps/blob/main/Dataform.ipynb\" target=\"_parent\"><img src=\"https://colab.research.google.com/assets/colab-badge.svg\" alt=\"Open In Colab\"/></a>"
      ]
    },
    {
      "cell_type": "code",
      "source": [
        "from google.colab import auth\n",
        "auth.authenticate_user()\n",
        "\n",
        "credentials = auth._check_adc()\n",
        "print(credentials)"
      ],
      "metadata": {
        "id": "LB39ntdSLlhJ"
      },
      "execution_count": null,
      "outputs": []
    },
    {
      "cell_type": "code",
      "source": [
        "!pip install google-cloud-dataform"
      ],
      "metadata": {
        "id": "eLnu3UlZNXpK"
      },
      "execution_count": null,
      "outputs": []
    },
    {
      "cell_type": "code",
      "execution_count": null,
      "metadata": {
        "id": "ySxX8uabK-pm"
      },
      "outputs": [],
      "source": [
        "from google.cloud import dataform_v1beta1\n",
        "#from google.auth.credentials import AnonymousCredentials\n",
        "\n",
        "# Create a Dataform client using AnonymousCredentials\n",
        "client = dataform_v1beta1.DataformClient()\n"
      ]
    },
    {
      "cell_type": "code",
      "source": [
        "\n",
        "def sample_get_workspace(workspace_id_value):\n",
        "    # Create a client\n",
        "    client = dataform_v1beta1.DataformClient()\n",
        "\n",
        "\n",
        "        # Initialize request argument(s)\n",
        "    request = dataform_v1beta1.GetWorkspaceRequest(\n",
        "        name=workspace_id_value,\n",
        "    )\n",
        "\n",
        "    # Make the request\n",
        "    response = client.get_workspace(request=request)\n",
        "\n",
        "    # Handle the response\n",
        "    print(response)"
      ],
      "metadata": {
        "id": "yMVs77xLOWen"
      },
      "execution_count": null,
      "outputs": []
    },
    {
      "cell_type": "code",
      "source": [
        "parent=\"projects/{project_id}/locations/{location}/repositories/{repostory_id}\".format(\n",
        "project_id=\"argolis-project-340214\",\n",
        "location=\"us-central1\",\n",
        "repostory_id = \"API_Repo\"\n",
        ")\n"
      ],
      "metadata": {
        "id": "yayH0TqFQPyG"
      },
      "execution_count": null,
      "outputs": []
    },
    {
      "cell_type": "code",
      "source": [
        "def sample_create_repository(repo_id):\n",
        "    # Create a client\n",
        "    client = dataform_v1beta1.DataformClient()\n",
        "\n",
        "    # Initialize request argument(s)\n",
        "    request = dataform_v1beta1.CreateRepositoryRequest(\n",
        "        parent=parent,\n",
        "        repository_id=repo_id,\n",
        "    )\n",
        "\n",
        "    # Make the request\n",
        "    response = client.create_repository(request=request)\n",
        "\n",
        "    # Handle the response\n",
        "    print(response)"
      ],
      "metadata": {
        "id": "cwTPu7lCPP9K"
      },
      "execution_count": null,
      "outputs": []
    },
    {
      "cell_type": "code",
      "source": [
        "def sample_create_workspace(workspace_id_value):\n",
        "    # Create a client\n",
        "    client = dataform_v1beta1.DataformClient()\n",
        "\n",
        "    # Initialize request argument(s)\n",
        "    request = dataform_v1beta1.CreateWorkspaceRequest(\n",
        "        parent=parent,\n",
        "        workspace_id=workspace_id_value,\n",
        "    )\n",
        "\n",
        "    # Make the request\n",
        "    response = client.create_workspace(request=request)\n",
        "\n",
        "    # Handle the response\n",
        "    print(response)"
      ],
      "metadata": {
        "id": "BhEgJa0oSnob"
      },
      "execution_count": null,
      "outputs": []
    },
    {
      "cell_type": "code",
      "source": [
        "\n",
        "def sample_create_workflow_invocation(parent_value):\n",
        "    # Create a client\n",
        "    client = dataform_v1beta1.DataformClient()\n",
        "\n",
        "    # Initialize request argument(s)\n",
        "    workflow_invocation = dataform_v1beta1.WorkflowInvocation()\n",
        "    #workflow_invocation.compilation_result = \"\"\n",
        "\n",
        "    request = dataform_v1beta1.CreateWorkflowInvocationRequest(\n",
        "        parent=parent_value,\n",
        "        workflow_invocation=workflow_invocation,\n",
        "    )\n",
        "\n",
        "    # Make the request\n",
        "    workflowinv = client.create_workflow_invocation(request=request)\n",
        "\n",
        "    # Handle the response\n",
        "    print(workflowinv)"
      ],
      "metadata": {
        "id": "6gY5hXA_dUvw"
      },
      "execution_count": null,
      "outputs": []
    },
    {
      "cell_type": "code",
      "source": [
        "def sample_get_workflow_invocation(workflow_id):\n",
        "    # Create a client\n",
        "    client = dataform_v1beta1.DataformClient()\n",
        "\n",
        "    # Initialize request argument(s)\n",
        "    request = dataform_v1beta1.GetWorkflowInvocationRequest(\n",
        "        name=workflow_id,\n",
        "    )\n",
        "\n",
        "    # Make the request\n",
        "    workflowinv = client.get_workflow_invocation(request=request)\n",
        "    print(\"Dir:\", dir(workflowinv))\n",
        "    print(\"workflow config:\", workflowinv.workflow_config)\n",
        "\n",
        "    # Handle the response\n",
        "    print(workflowinv)"
      ],
      "metadata": {
        "id": "qlBizk50vnJu"
      },
      "execution_count": null,
      "outputs": []
    },
    {
      "cell_type": "code",
      "source": [
        "def sample_list_workflow_invocations(parent_value):\n",
        "    # Create a client\n",
        "    client = dataform_v1beta1.DataformClient()\n",
        "\n",
        "    # Initialize request argument(s)\n",
        "    request = dataform_v1beta1.ListWorkflowInvocationsRequest(\n",
        "        parent=parent_value,\n",
        "    )\n",
        "\n",
        "    # Make the request\n",
        "    page_result = client.list_workflow_invocations(request=request)\n",
        "\n",
        "    # Handle the response\n",
        "    for response in page_result:\n",
        "        print(response)"
      ],
      "metadata": {
        "id": "26HJzyF9wt9W"
      },
      "execution_count": null,
      "outputs": []
    },
    {
      "cell_type": "code",
      "source": [
        "#sample_get_workspace(\"projects/argolis-project-340214/locations/us-central1/repositories/GFS-BQML/workspaces/DevSpace\")\n",
        "#sample_create_repository(\"API_Repo\")\n",
        "#sample_create_workspace(\"FirstWorkspace\")\n",
        "#sample_list_workflow_invocations(\"projects/argolis-project-340214/locations/us-central1/repositories/GFS-BQML\")\n",
        "#sample_create_workflow_invocation(\"projects/argolis-project-340214/locations/us-central1/repositories/GFS-BQML\")\n",
        "sample_get_workflow_invocation(\"projects/argolis-project-340214/locations/us-central1/repositories/GFS-BQML/workflowInvocations/1719156770-b20945e5-77ff-43af-8801-41a166992544\")"
      ],
      "metadata": {
        "id": "zJiKhfBoOfBG"
      },
      "execution_count": null,
      "outputs": []
    }
  ]
}