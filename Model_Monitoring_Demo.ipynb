{
  "cells": [
    {
      "cell_type": "markdown",
      "metadata": {
        "id": "view-in-github",
        "colab_type": "text"
      },
      "source": [
        "<a href=\"https://colab.research.google.com/github/guruvittal/VertexMonitoring/blob/main/Model_Monitoring_Demo.ipynb\" target=\"_parent\"><img src=\"https://colab.research.google.com/assets/colab-badge.svg\" alt=\"Open In Colab\"/></a>"
      ]
    },
    {
      "cell_type": "code",
      "execution_count": null,
      "metadata": {
        "id": "Y5yTxMNOKnOC"
      },
      "outputs": [],
      "source": [
        "# Copyright 2024 Google LLC\n",
        "#\n",
        "# Licensed under the Apache License, Version 2.0 (the \"License\");\n",
        "# you may not use this file except in compliance with the License.\n",
        "# You may obtain a copy of the License at\n",
        "#\n",
        "#     https://www.apache.org/licenses/LICENSE-2.0\n",
        "#\n",
        "# Unless required by applicable law or agreed to in writing, software\n",
        "# distributed under the License is distributed on an \"AS IS\" BASIS,\n",
        "# WITHOUT WARRANTIES OR CONDITIONS OF ANY KIND, either express or implied.\n",
        "# See the License for the specific language governing permissions and\n",
        "# limitations under the License."
      ]
    },
    {
      "cell_type": "markdown",
      "metadata": {
        "id": "ndfGn8c4bI_G"
      },
      "source": [
        "# Model Monitoring for Vertex AI Custom Model Batch Prediction Job\n",
        "\n",
        "<table align=\"left\">\n",
        "  <td style=\"text-align: center\">\n",
        "    <a href=\"https://colab.research.google.com/github/GoogleCloudPlatform/vertex-ai-samples/blob/main/notebooks/official/model_monitoring_v2/model_monitoring_for_custom_model_batch_prediction_job.ipynb\">\n",
        "      <img src=\"https://cloud.google.com/ml-engine/images/colab-logo-32px.png\" alt=\"Google Colaboratory logo\"><br> Open in Colab\n",
        "    </a>\n",
        "  </td>\n",
        "  <td style=\"text-align: center\">\n",
        "    <a href=\"https://console.cloud.google.com/vertex-ai/colab/import/https:%2F%2Fraw.githubusercontent.com%2FGoogleCloudPlatform%2Fvertex-ai-samples%2Fmain%2Fnotebooks%2Fofficial%2model_monitoring_v2%2model_monitoring_for_custom_model_batch_prediction_job.ipynb\">\n",
        "      <img width=\"32px\" src=\"https://lh3.googleusercontent.com/JmcxdQi-qOpctIvWKgPtrzZdJJK-J3sWE1RsfjZNwshCFgE_9fULcNpuXYTilIR2hjwN\" alt=\"Google Cloud Colab Enterprise logo\"><br> Open in Colab Enterprise\n",
        "    </a>\n",
        "  </td>    \n",
        "  <td style=\"text-align: center\">\n",
        "    <a href=\"https://console.cloud.google.com/vertex-ai/workbench/deploy-notebook?download_url=https://raw.githubusercontent.com/GoogleCloudPlatform/vertex-ai-samples/blob/main/notebooks/official/model_monitoring_v2/model_monitoring_for_custom_model_batch_prediction_job.ipynb\">\n",
        "      <img src=\"https://lh3.googleusercontent.com/UiNooY4LUgW_oTvpsNhPpQzsstV5W8F7rYgxgGBD85cWJoLmrOzhVs_ksK_vgx40SHs7jCqkTkCk=e14-rj-sc0xffffff-h130-w32\" alt=\"Vertex AI logo\"><br> Open in Workbench\n",
        "    </a>\n",
        "  </td>\n",
        "  <td style=\"text-align: center\">\n",
        "    <a href=\"https://github.com/GoogleCloudPlatform/vertex-ai-samples/blob/main/notebooks/official/model_monitoring_v2/model_monitoring_for_custom_model_batch_prediction_job.ipynb\">\n",
        "      <img src=\"https://cloud.google.com/ml-engine/images/github-logo-32px.png\" alt=\"GitHub logo\"><br> View on GitHub\n",
        "    </a>\n",
        "  </td>\n",
        "</table>\n"
      ]
    },
    {
      "cell_type": "markdown",
      "metadata": {
        "id": "R5Hp34AVK7ba"
      },
      "source": [
        "## Overview\n",
        "\n",
        "This tutorial demonstrates how to use the Vertex AI SDK for Python to set up Vertex AI Model Monitoring V2 for your model."
      ]
    },
    {
      "cell_type": "markdown",
      "metadata": {
        "id": "DyXl559OtyK_"
      },
      "source": [
        "### Objective\n",
        "\n",
        "In this tutorial, you'll complete the following steps:\n",
        "\n",
        "- Upload a custom model to Vertex AI Model Registry.\n",
        "- Create a model monitor.\n",
        "- Create Vertex AI batch prediction job.\n",
        "- Run an on-demand model monitoring job to analyze data drift between the batch prediction job results and the training dataset.\n",
        "- Create another Vertex AI batch prediction job.\n",
        "- Run an on-demand model monitoring job to analyze data drift between the batch prediction job results and the previous batch prediction job.\n",
        "- Run an on-demand model monitoring job to analyze the feature attribution drift between the batch prediction job results and a baseline dataset in Google Cloud Storage.\n",
        "\n",
        "\n",
        "### Costs\n",
        "\n",
        "Vertex AI Model Monitoring v2 is free during the public preview period, but you will still be billed for the following Google Cloud services:\n",
        "\n",
        "* [BigQuery](https://cloud.google.com/bigquery/pricing)\n",
        "* [Cloud Storage](https://cloud.google.com/storage/pricing)\n",
        "* [Vertex AI Online Prediction](https://cloud.google.com/vertex-ai/pricing#prediction-prices)\n",
        "* [Vertex AI Batch Explanation Job](https://cloud.google.com/vertex-ai/pricing#prediction-prices) (if you run the feature attribution drift example)."
      ]
    },
    {
      "cell_type": "markdown",
      "metadata": {
        "id": "oYmaoz9MNLHd"
      },
      "source": [
        "## Getting Started"
      ]
    },
    {
      "cell_type": "markdown",
      "metadata": {
        "id": "NvW5zNXmNMwm"
      },
      "source": [
        "### Install Vertex AI SDK and other required packages"
      ]
    },
    {
      "cell_type": "code",
      "execution_count": null,
      "metadata": {
        "id": "5FakhYktNO7Y",
        "outputId": "ac082e47-e550-432f-c354-7082639ff3be",
        "colab": {
          "base_uri": "https://localhost:8080/"
        }
      },
      "outputs": [
        {
          "output_type": "stream",
          "name": "stdout",
          "text": [
            "\u001b[2K     \u001b[90m━━━━━━━━━━━━━━━━━━━━━━━━━━━━━━━━━━━━━━━━\u001b[0m \u001b[32m239.0/239.0 kB\u001b[0m \u001b[31m1.5 MB/s\u001b[0m eta \u001b[36m0:00:00\u001b[0m\n",
            "\u001b[2K     \u001b[90m━━━━━━━━━━━━━━━━━━━━━━━━━━━━━━━━━━━━━━━━\u001b[0m \u001b[32m13.0/13.0 MB\u001b[0m \u001b[31m15.0 MB/s\u001b[0m eta \u001b[36m0:00:00\u001b[0m\n",
            "\u001b[2K     \u001b[90m━━━━━━━━━━━━━━━━━━━━━━━━━━━━━━━━━━━━━━━━\u001b[0m \u001b[32m40.8/40.8 MB\u001b[0m \u001b[31m15.0 MB/s\u001b[0m eta \u001b[36m0:00:00\u001b[0m\n",
            "\u001b[2K     \u001b[90m━━━━━━━━━━━━━━━━━━━━━━━━━━━━━━━━━━━━━━━━\u001b[0m \u001b[32m19.0/19.0 MB\u001b[0m \u001b[31m40.8 MB/s\u001b[0m eta \u001b[36m0:00:00\u001b[0m\n",
            "\u001b[2K     \u001b[90m━━━━━━━━━━━━━━━━━━━━━━━━━━━━━━━━━━━━━━━━\u001b[0m \u001b[32m12.1/12.1 MB\u001b[0m \u001b[31m42.1 MB/s\u001b[0m eta \u001b[36m0:00:00\u001b[0m\n",
            "\u001b[2K     \u001b[90m━━━━━━━━━━━━━━━━━━━━━━━━━━━━━━━━━━━━━━━━\u001b[0m \u001b[32m35.9/35.9 MB\u001b[0m \u001b[31m10.8 MB/s\u001b[0m eta \u001b[36m0:00:00\u001b[0m\n",
            "\u001b[2K     \u001b[90m━━━━━━━━━━━━━━━━━━━━━━━━━━━━━━━━━━━━━━━━\u001b[0m \u001b[32m99.9/99.9 kB\u001b[0m \u001b[31m7.2 MB/s\u001b[0m eta \u001b[36m0:00:00\u001b[0m\n",
            "\u001b[?25h  Preparing metadata (setup.py) ... \u001b[?25l\u001b[?25hdone\n",
            "\u001b[2K     \u001b[90m━━━━━━━━━━━━━━━━━━━━━━━━━━━━━━━━━━━━━━━━\u001b[0m \u001b[32m22.5/22.5 MB\u001b[0m \u001b[31m37.0 MB/s\u001b[0m eta \u001b[36m0:00:00\u001b[0m\n",
            "\u001b[2K     \u001b[90m━━━━━━━━━━━━━━━━━━━━━━━━━━━━━━━━━━━━━━━━\u001b[0m \u001b[32m14.5/14.5 MB\u001b[0m \u001b[31m37.8 MB/s\u001b[0m eta \u001b[36m0:00:00\u001b[0m\n",
            "\u001b[2K     \u001b[90m━━━━━━━━━━━━━━━━━━━━━━━━━━━━━━━━━━━━━━━━\u001b[0m \u001b[32m89.7/89.7 kB\u001b[0m \u001b[31m9.0 MB/s\u001b[0m eta \u001b[36m0:00:00\u001b[0m\n",
            "\u001b[?25h  Preparing metadata (setup.py) ... \u001b[?25l\u001b[?25hdone\n",
            "\u001b[2K     \u001b[90m━━━━━━━━━━━━━━━━━━━━━━━━━━━━━━━━━━━━━━━━\u001b[0m \u001b[32m145.0/145.0 kB\u001b[0m \u001b[31m15.4 MB/s\u001b[0m eta \u001b[36m0:00:00\u001b[0m\n",
            "\u001b[2K     \u001b[90m━━━━━━━━━━━━━━━━━━━━━━━━━━━━━━━━━━━━━━━━\u001b[0m \u001b[32m152.0/152.0 kB\u001b[0m \u001b[31m12.0 MB/s\u001b[0m eta \u001b[36m0:00:00\u001b[0m\n",
            "\u001b[?25h  Preparing metadata (setup.py) ... \u001b[?25l\u001b[?25hdone\n",
            "\u001b[2K     \u001b[90m━━━━━━━━━━━━━━━━━━━━━━━━━━━━━━━━━━━━━━━━\u001b[0m \u001b[32m3.1/3.1 MB\u001b[0m \u001b[31m45.1 MB/s\u001b[0m eta \u001b[36m0:00:00\u001b[0m\n",
            "\u001b[2K     \u001b[90m━━━━━━━━━━━━━━━━━━━━━━━━━━━━━━━━━━━━━━━━\u001b[0m \u001b[32m43.5/43.5 kB\u001b[0m \u001b[31m3.9 MB/s\u001b[0m eta \u001b[36m0:00:00\u001b[0m\n",
            "\u001b[?25h  Preparing metadata (setup.py) ... \u001b[?25l\u001b[?25hdone\n",
            "\u001b[2K     \u001b[90m━━━━━━━━━━━━━━━━━━━━━━━━━━━━━━━━━━━━━━━━\u001b[0m \u001b[32m669.1/669.1 kB\u001b[0m \u001b[31m42.6 MB/s\u001b[0m eta \u001b[36m0:00:00\u001b[0m\n",
            "\u001b[2K     \u001b[90m━━━━━━━━━━━━━━━━━━━━━━━━━━━━━━━━━━━━━━━━\u001b[0m \u001b[32m252.0/252.0 kB\u001b[0m \u001b[31m24.3 MB/s\u001b[0m eta \u001b[36m0:00:00\u001b[0m\n",
            "\u001b[2K     \u001b[90m━━━━━━━━━━━━━━━━━━━━━━━━━━━━━━━━━━━━━━━━\u001b[0m \u001b[32m5.4/5.4 MB\u001b[0m \u001b[31m70.7 MB/s\u001b[0m eta \u001b[36m0:00:00\u001b[0m\n",
            "\u001b[2K     \u001b[90m━━━━━━━━━━━━━━━━━━━━━━━━━━━━━━━━━━━━━━━━\u001b[0m \u001b[32m1.0/1.0 MB\u001b[0m \u001b[31m55.3 MB/s\u001b[0m eta \u001b[36m0:00:00\u001b[0m\n",
            "\u001b[2K     \u001b[90m━━━━━━━━━━━━━━━━━━━━━━━━━━━━━━━━━━━━━━━━\u001b[0m \u001b[32m173.5/173.5 kB\u001b[0m \u001b[31m12.8 MB/s\u001b[0m eta \u001b[36m0:00:00\u001b[0m\n",
            "\u001b[?25h  Preparing metadata (setup.py) ... \u001b[?25l\u001b[?25hdone\n",
            "\u001b[2K     \u001b[90m━━━━━━━━━━━━━━━━━━━━━━━━━━━━━━━━━━━━━━━━\u001b[0m \u001b[32m273.2/273.2 kB\u001b[0m \u001b[31m26.2 MB/s\u001b[0m eta \u001b[36m0:00:00\u001b[0m\n",
            "\u001b[2K     \u001b[90m━━━━━━━━━━━━━━━━━━━━━━━━━━━━━━━━━━━━━━━━\u001b[0m \u001b[32m299.2/299.2 kB\u001b[0m \u001b[31m27.3 MB/s\u001b[0m eta \u001b[36m0:00:00\u001b[0m\n",
            "\u001b[2K     \u001b[90m━━━━━━━━━━━━━━━━━━━━━━━━━━━━━━━━━━━━━━━━\u001b[0m \u001b[32m126.5/126.5 kB\u001b[0m \u001b[31m13.7 MB/s\u001b[0m eta \u001b[36m0:00:00\u001b[0m\n",
            "\u001b[2K     \u001b[90m━━━━━━━━━━━━━━━━━━━━━━━━━━━━━━━━━━━━━━━━\u001b[0m \u001b[32m373.7/373.7 kB\u001b[0m \u001b[31m32.6 MB/s\u001b[0m eta \u001b[36m0:00:00\u001b[0m\n",
            "\u001b[2K     \u001b[90m━━━━━━━━━━━━━━━━━━━━━━━━━━━━━━━━━━━━━━━━\u001b[0m \u001b[32m384.6/384.6 kB\u001b[0m \u001b[31m34.7 MB/s\u001b[0m eta \u001b[36m0:00:00\u001b[0m\n",
            "\u001b[2K     \u001b[90m━━━━━━━━━━━━━━━━━━━━━━━━━━━━━━━━━━━━━━━━\u001b[0m \u001b[32m180.3/180.3 kB\u001b[0m \u001b[31m18.1 MB/s\u001b[0m eta \u001b[36m0:00:00\u001b[0m\n",
            "\u001b[2K     \u001b[90m━━━━━━━━━━━━━━━━━━━━━━━━━━━━━━━━━━━━━━━━\u001b[0m \u001b[32m240.4/240.4 kB\u001b[0m \u001b[31m22.5 MB/s\u001b[0m eta \u001b[36m0:00:00\u001b[0m\n",
            "\u001b[2K     \u001b[90m━━━━━━━━━━━━━━━━━━━━━━━━━━━━━━━━━━━━━━━━\u001b[0m \u001b[32m459.6/459.6 kB\u001b[0m \u001b[31m30.5 MB/s\u001b[0m eta \u001b[36m0:00:00\u001b[0m\n",
            "\u001b[2K     \u001b[90m━━━━━━━━━━━━━━━━━━━━━━━━━━━━━━━━━━━━━━━━\u001b[0m \u001b[32m180.3/180.3 kB\u001b[0m \u001b[31m18.2 MB/s\u001b[0m eta \u001b[36m0:00:00\u001b[0m\n",
            "\u001b[2K     \u001b[90m━━━━━━━━━━━━━━━━━━━━━━━━━━━━━━━━━━━━━━━━\u001b[0m \u001b[32m125.6/125.6 kB\u001b[0m \u001b[31m13.6 MB/s\u001b[0m eta \u001b[36m0:00:00\u001b[0m\n",
            "\u001b[2K     \u001b[90m━━━━━━━━━━━━━━━━━━━━━━━━━━━━━━━━━━━━━━━━\u001b[0m \u001b[32m123.5/123.5 kB\u001b[0m \u001b[31m13.0 MB/s\u001b[0m eta \u001b[36m0:00:00\u001b[0m\n",
            "\u001b[2K     \u001b[90m━━━━━━━━━━━━━━━━━━━━━━━━━━━━━━━━━━━━━━━━\u001b[0m \u001b[32m121.6/121.6 kB\u001b[0m \u001b[31m12.3 MB/s\u001b[0m eta \u001b[36m0:00:00\u001b[0m\n",
            "\u001b[2K     \u001b[90m━━━━━━━━━━━━━━━━━━━━━━━━━━━━━━━━━━━━━━━━\u001b[0m \u001b[32m1.6/1.6 MB\u001b[0m \u001b[31m54.8 MB/s\u001b[0m eta \u001b[36m0:00:00\u001b[0m\n",
            "\u001b[2K     \u001b[90m━━━━━━━━━━━━━━━━━━━━━━━━━━━━━━━━━━━━━━━━\u001b[0m \u001b[32m62.1/62.1 kB\u001b[0m \u001b[31m4.4 MB/s\u001b[0m eta \u001b[36m0:00:00\u001b[0m\n",
            "\u001b[2K     \u001b[90m━━━━━━━━━━━━━━━━━━━━━━━━━━━━━━━━━━━━━━━━\u001b[0m \u001b[32m356.8/356.8 kB\u001b[0m \u001b[31m3.9 MB/s\u001b[0m eta \u001b[36m0:00:00\u001b[0m\n",
            "\u001b[2K     \u001b[90m━━━━━━━━━━━━━━━━━━━━━━━━━━━━━━━━━━━━━━━━\u001b[0m \u001b[32m357.5/357.5 kB\u001b[0m \u001b[31m24.0 MB/s\u001b[0m eta \u001b[36m0:00:00\u001b[0m\n",
            "\u001b[2K     \u001b[90m━━━━━━━━━━━━━━━━━━━━━━━━━━━━━━━━━━━━━━━━\u001b[0m \u001b[32m295.1/295.1 kB\u001b[0m \u001b[31m2.1 MB/s\u001b[0m eta \u001b[36m0:00:00\u001b[0m\n",
            "\u001b[?25h  Preparing metadata (setup.py) ... \u001b[?25l\u001b[?25hdone\n",
            "  Preparing metadata (setup.py) ... \u001b[?25l\u001b[?25hdone\n",
            "\u001b[2K     \u001b[90m━━━━━━━━━━━━━━━━━━━━━━━━━━━━━━━━━━━━━━━━\u001b[0m \u001b[32m307.7/307.7 kB\u001b[0m \u001b[31m20.2 MB/s\u001b[0m eta \u001b[36m0:00:00\u001b[0m\n",
            "\u001b[2K     \u001b[90m━━━━━━━━━━━━━━━━━━━━━━━━━━━━━━━━━━━━━━━━\u001b[0m \u001b[32m475.2/475.2 MB\u001b[0m \u001b[31m2.8 MB/s\u001b[0m eta \u001b[36m0:00:00\u001b[0m\n",
            "\u001b[2K     \u001b[90m━━━━━━━━━━━━━━━━━━━━━━━━━━━━━━━━━━━━━━━━\u001b[0m \u001b[32m2.2/2.2 MB\u001b[0m \u001b[31m50.9 MB/s\u001b[0m eta \u001b[36m0:00:00\u001b[0m\n",
            "\u001b[?25h  Building wheel for pyfarmhash (setup.py) ... \u001b[?25l\u001b[?25hdone\n",
            "  Building wheel for crcmod (setup.py) ... \u001b[?25l\u001b[?25hdone\n",
            "  Building wheel for dill (setup.py) ... \u001b[?25l\u001b[?25hdone\n",
            "  Building wheel for google-apitools (setup.py) ... \u001b[?25l\u001b[?25hdone\n",
            "  Building wheel for hdfs (setup.py) ... \u001b[?25l\u001b[?25hdone\n",
            "  Building wheel for pyjsparser (setup.py) ... \u001b[?25l\u001b[?25hdone\n",
            "  Building wheel for docopt (setup.py) ... \u001b[?25l\u001b[?25hdone\n",
            "\u001b[31mERROR: pip's dependency resolver does not currently take into account all the packages that are installed. This behaviour is the source of the following dependency conflicts.\n",
            "cudf-cu12 24.4.1 requires pandas<2.2.2dev0,>=2.0, but you have pandas 1.5.3 which is incompatible.\n",
            "cudf-cu12 24.4.1 requires pyarrow<15.0.0a0,>=14.0.1, but you have pyarrow 10.0.1 which is incompatible.\n",
            "google-colab 1.0.0 requires pandas==2.0.3, but you have pandas 1.5.3 which is incompatible.\u001b[0m\u001b[31m\n",
            "\u001b[0m"
          ]
        }
      ],
      "source": [
        "! pip3 install --upgrade --quiet \\\n",
        "    google-cloud-bigquery \\\n",
        "    pandas \\\n",
        "    pandas_gbq \\\n",
        "    pyarrow \\\n",
        "    tensorflow_data_validation[visualization] \\\n",
        "    google-cloud-aiplatform"
      ]
    },
    {
      "cell_type": "markdown",
      "metadata": {
        "id": "02nrfqgSOsw2"
      },
      "source": [
        "Check that the version of google-cloud-aiplatform is 1.51.0 or later."
      ]
    },
    {
      "cell_type": "code",
      "execution_count": null,
      "metadata": {
        "id": "uq2kSzjTOuQp",
        "outputId": "0a786805-b8a2-4216-c9c8-4d2a1d697853",
        "colab": {
          "base_uri": "https://localhost:8080/",
          "height": 35
        }
      },
      "outputs": [
        {
          "output_type": "execute_result",
          "data": {
            "text/plain": [
              "'1.56.0'"
            ],
            "application/vnd.google.colaboratory.intrinsic+json": {
              "type": "string"
            }
          },
          "metadata": {},
          "execution_count": 1
        }
      ],
      "source": [
        "from google.cloud import aiplatform\n",
        "\n",
        "aiplatform.__version__"
      ]
    },
    {
      "cell_type": "markdown",
      "metadata": {
        "id": "U4o9GjHNfHdI"
      },
      "source": [
        "### Restart runtime (Colab only)\n",
        "\n",
        "To use the newly installed packages, you must restart the runtime on Google Colab."
      ]
    },
    {
      "cell_type": "code",
      "execution_count": null,
      "metadata": {
        "id": "JaY8Q_T3fA38"
      },
      "outputs": [],
      "source": [
        "import sys\n",
        "\n",
        "if \"google.colab\" in sys.modules:\n",
        "\n",
        "    import IPython\n",
        "\n",
        "    app = IPython.Application.instance()\n",
        "    app.kernel.do_shutdown(True)"
      ]
    },
    {
      "cell_type": "markdown",
      "metadata": {
        "id": "4LvVXIhRO0Vk"
      },
      "source": [
        "<div class=\"alert alert-block alert-warning\">\n",
        "<b>⚠️ The kernel is going to restart. Please wait until it is finished before continuing to the next step. ⚠️</b>\n",
        "</div>\n"
      ]
    },
    {
      "cell_type": "markdown",
      "metadata": {
        "id": "i5-StiZvO3-6"
      },
      "source": [
        "### Authenticate your notebook environment (Colab only)\n",
        "\n",
        "Authenticate your environment on Google Colab."
      ]
    },
    {
      "cell_type": "code",
      "execution_count": null,
      "metadata": {
        "id": "YIXcOK0uO5q_"
      },
      "outputs": [],
      "source": [
        "import sys\n",
        "\n",
        "if \"google.colab\" in sys.modules:\n",
        "\n",
        "    from google.colab import auth\n",
        "\n",
        "    auth.authenticate_user()"
      ]
    },
    {
      "cell_type": "markdown",
      "metadata": {
        "id": "uHVx1c-OO7KR"
      },
      "source": [
        "### Set Google Cloud project information and initialize Vertex AI SDK\n",
        "\n",
        "To get started using Vertex AI, you must have an existing Google Cloud project and [enable the Vertex AI API](https://console.cloud.google.com/flows/enableapi?apiid=aiplatform.googleapis.com). Learn more about [setting up a project and a development environment](https://cloud.google.com/vertex-ai/docs/start/cloud-environment)."
      ]
    },
    {
      "cell_type": "code",
      "execution_count": null,
      "metadata": {
        "id": "gg6xkyR7O9cU",
        "outputId": "3a204a5d-e422-45d5-a39b-6bfe195dda1c",
        "colab": {
          "base_uri": "https://localhost:8080/"
        }
      },
      "outputs": [
        {
          "output_type": "stream",
          "name": "stdout",
          "text": [
            "Updated property [core/project].\n",
            "Updated property [ai/region].\n"
          ]
        }
      ],
      "source": [
        "PROJECT_ID = \"argolis-project-340214\"  # @param {type:\"string\"}\n",
        "LOCATION = \"us-central1\"  # @param {type:\"string\"}\n",
        "\n",
        "\n",
        "import os\n",
        "\n",
        "import vertexai\n",
        "\n",
        "! gcloud config set project $PROJECT_ID\n",
        "os.environ[\"GOOGLE_CLOUD_PROJECT\"] = PROJECT_ID\n",
        "! gcloud config set ai/region $LOCATION\n",
        "\n",
        "vertexai.init(project=PROJECT_ID, location=LOCATION)"
      ]
    },
    {
      "cell_type": "markdown",
      "metadata": {
        "id": "LMRdCWwqPBpR"
      },
      "source": [
        "## Start Model Monitoring tutorial"
      ]
    },
    {
      "cell_type": "markdown",
      "metadata": {
        "id": "l_BdNCfk7Hjz"
      },
      "source": [
        "### Step 1: Create a Cloud Storage bucket\n",
        "\n",
        "Create a Cloud Storage bucket to store intermediate artifacts such as datasets."
      ]
    },
    {
      "cell_type": "code",
      "execution_count": null,
      "metadata": {
        "id": "3_CZRJ5L60Mi"
      },
      "outputs": [],
      "source": [
        "# Create a Cloud Storage bucket\n",
        "BUCKET_URI = \"gs://vertex_model_monitoring\"  # @param {type:\"string\"}"
      ]
    },
    {
      "cell_type": "markdown",
      "metadata": {
        "id": "lvHsyHsi7Dg8"
      },
      "source": [
        "**Only if your bucket doesn't already exist**: Run the following cell to create your Cloud Storage bucket."
      ]
    },
    {
      "cell_type": "code",
      "execution_count": null,
      "metadata": {
        "id": "mrHlJi-e7AyX",
        "outputId": "cdf136aa-7484-4b25-baf5-46a3d7ae200c",
        "colab": {
          "base_uri": "https://localhost:8080/"
        }
      },
      "outputs": [
        {
          "output_type": "stream",
          "name": "stdout",
          "text": [
            "Creating gs://vertex_model_monitoring/...\n",
            "ServiceException: 409 A Cloud Storage bucket named 'vertex_model_monitoring' already exists. Try another name. Bucket names must be globally unique across all Google Cloud projects, including those outside of your organization.\n"
          ]
        }
      ],
      "source": [
        "! gsutil mb -l {LOCATION} -p {PROJECT_ID} {BUCKET_URI}"
      ]
    },
    {
      "cell_type": "markdown",
      "metadata": {
        "id": "5ZLxDjB6lYXx"
      },
      "source": [
        "### Step 2: Prepare a model in Vertex AI Model Registry"
      ]
    },
    {
      "cell_type": "markdown",
      "metadata": {
        "id": "1_OchKcp60FE"
      },
      "source": [
        "You can register a model in Vertex AI Model Registry with its artifacts, enabling you to perform online serving or batch prediction. Alternatively, you can register a referenced/placeholder model that includes only the model's name.\n",
        "In this notebook, you register a model with artifacts because you'll run a batch prediction job."
      ]
    },
    {
      "cell_type": "code",
      "execution_count": null,
      "metadata": {
        "id": "SwrD1CnmmJsk",
        "outputId": "c62e4740-7c0f-4de3-b7c7-4f55322155e3",
        "colab": {
          "base_uri": "https://localhost:8080/"
        }
      },
      "outputs": [
        {
          "output_type": "stream",
          "name": "stderr",
          "text": [
            "INFO:google.cloud.aiplatform.models:Creating Model\n",
            "INFO:google.cloud.aiplatform.models:Create Model backing LRO: projects/742458474659/locations/us-central1/models/1299368756845215744/operations/4144234456674205696\n",
            "INFO:google.cloud.aiplatform.models:Model created. Resource name: projects/742458474659/locations/us-central1/models/1299368756845215744@1\n",
            "INFO:google.cloud.aiplatform.models:To use this Model in another session:\n",
            "INFO:google.cloud.aiplatform.models:model = aiplatform.Model('projects/742458474659/locations/us-central1/models/1299368756845215744@1')\n"
          ]
        }
      ],
      "source": [
        "import google.cloud.aiplatform as aiplatform\n",
        "\n",
        "MODEL_PATH = \"gs://mco-mm/churn\"\n",
        "MODEL_NAME = \"churn\"\n",
        "IMAGE = \"us-docker.pkg.dev/cloud-aiplatform/prediction/tf2-cpu.2-5:latest\"\n",
        "\n",
        "model = aiplatform.Model.upload(\n",
        "    display_name=MODEL_NAME,\n",
        "    artifact_uri=MODEL_PATH,\n",
        "    serving_container_image_uri=IMAGE,\n",
        "    sync=True,\n",
        ")\n",
        "\n",
        "MODEL_ID = model.resource_name.split(\"/\")[-1]"
      ]
    },
    {
      "cell_type": "markdown",
      "metadata": {
        "id": "RuwAoHTilv1j"
      },
      "source": [
        "### Step 3: Create a model monitor"
      ]
    },
    {
      "cell_type": "markdown",
      "metadata": {
        "id": "Wp6jVFGvC6wt"
      },
      "source": [
        "Create a model monitor to associate monitoring details with a model version that has been register in Vertex AI Model Registry."
      ]
    },
    {
      "cell_type": "markdown",
      "metadata": {
        "id": "9hH4wSCXfgoE"
      },
      "source": [
        "#### Define Model Monitoring Schema"
      ]
    },
    {
      "cell_type": "markdown",
      "metadata": {
        "id": "jyg0cMAdfrAa"
      },
      "source": [
        "The monitoring schema is required for model monitors. It includes the names of input features, prediction outputs and, if available, ground truths, along with their respective data type.\n",
        "\n",
        "**Note: For AutoML tables (regression and classification), defining the schema is optional. The schema is automatically fetched when available. If Vertex AI cannot get the schema information, you must provide it.**"
      ]
    },
    {
      "cell_type": "code",
      "execution_count": null,
      "metadata": {
        "id": "GR-4eTn3fkHk"
      },
      "outputs": [],
      "source": [
        "from vertexai.resources.preview import ml_monitoring\n",
        "\n",
        "MODEL_MONITORING_SCHEMA = ml_monitoring.spec.ModelMonitoringSchema(\n",
        "    feature_fields=[\n",
        "        ml_monitoring.spec.FieldSchema(name=\"user_pseudo_id\", data_type=\"string\"),\n",
        "        ml_monitoring.spec.FieldSchema(name=\"country\", data_type=\"string\"),\n",
        "        ml_monitoring.spec.FieldSchema(name=\"operating_system\", data_type=\"string\"),\n",
        "        ml_monitoring.spec.FieldSchema(name=\"cnt_user_engagement\", data_type=\"integer\"),\n",
        "        ml_monitoring.spec.FieldSchema(\n",
        "            name=\"cnt_level_start_quickplay\", data_type=\"integer\"\n",
        "        ),\n",
        "        ml_monitoring.spec.FieldSchema(\n",
        "            name=\"cnt_level_end_quickplay\", data_type=\"integer\"\n",
        "        ),\n",
        "        ml_monitoring.spec.FieldSchema(\n",
        "            name=\"cnt_level_complete_quickplay\", data_type=\"integer\"\n",
        "        ),\n",
        "        ml_monitoring.spec.FieldSchema(\n",
        "            name=\"cnt_level_reset_quickplay\", data_type=\"integer\"\n",
        "        ),\n",
        "        ml_monitoring.spec.FieldSchema(name=\"cnt_post_score\", data_type=\"integer\"),\n",
        "        ml_monitoring.spec.FieldSchema(\n",
        "            name=\"cnt_spend_virtual_currency\", data_type=\"integer\"\n",
        "        ),\n",
        "        ml_monitoring.spec.FieldSchema(name=\"cnt_ad_reward\", data_type=\"integer\"),\n",
        "        ml_monitoring.spec.FieldSchema(\n",
        "            name=\"cnt_challenge_a_friend\", data_type=\"integer\"\n",
        "        ),\n",
        "        ml_monitoring.spec.FieldSchema(\n",
        "            name=\"cnt_completed_5_levels\", data_type=\"integer\"\n",
        "        ),\n",
        "        ml_monitoring.spec.FieldSchema(name=\"cnt_use_extra_steps\", data_type=\"integer\"),\n",
        "        ml_monitoring.spec.FieldSchema(name=\"month\", data_type=\"categorical\"),\n",
        "        ml_monitoring.spec.FieldSchema(name=\"julianday\", data_type=\"integer\"),\n",
        "        ml_monitoring.spec.FieldSchema(name=\"dayofweek\", data_type=\"integer\"),\n",
        "    ],\n",
        "    ground_truth_fields=[\n",
        "        ml_monitoring.spec.FieldSchema(name=\"churned\", data_type=\"categorical\")\n",
        "    ],\n",
        "    prediction_fields=[\n",
        "        ml_monitoring.spec.FieldSchema(\n",
        "            name=\"predicted_churned\", data_type=\"categorical\"\n",
        "        )\n",
        "    ],\n",
        ")"
      ]
    },
    {
      "cell_type": "markdown",
      "metadata": {
        "id": "L8KuANNbiiEV"
      },
      "source": [
        "#### (Optional) Define training dataset"
      ]
    },
    {
      "cell_type": "markdown",
      "metadata": {
        "id": "SvFZRodti3qN"
      },
      "source": [
        "The training dataset can serve as the baseline dataset to calculate monitoring metrics. You can register the training dataset in the model monitor."
      ]
    },
    {
      "cell_type": "code",
      "execution_count": null,
      "metadata": {
        "id": "CSqE4_roiw-q",
        "outputId": "473591db-0730-4c77-9b0f-c581431e1b03",
        "colab": {
          "base_uri": "https://localhost:8080/"
        }
      },
      "outputs": [
        {
          "output_type": "stream",
          "name": "stdout",
          "text": [
            "Copying gs://cloud-samples-data/vertex-ai/model-monitoring/churn/churn_training.csv [Content-Type=text/csv]...\n",
            "/ [1 files][717.9 KiB/717.9 KiB]                                                \n",
            "Operation completed over 1 objects/717.9 KiB.                                    \n"
          ]
        }
      ],
      "source": [
        "from vertexai.resources.preview import ml_monitoring\n",
        "\n",
        "# Copy files to your projects gs bucket to avoid permission issues.\n",
        "# Ignore any error(s) for bucket already exists.\n",
        "PUBLIC_TRAINING_DATASET = (\n",
        "    \"gs://cloud-samples-data/vertex-ai/model-monitoring/churn/churn_training.csv\"\n",
        ")\n",
        "TRAINING_URI = f\"{BUCKET_URI}/model-monitoring/churn/churn_training.csv\"\n",
        "\n",
        "! gsutil copy $PUBLIC_TRAINING_DATASET $TRAINING_URI\n",
        "\n",
        "TRAINING_DATASET = ml_monitoring.spec.MonitoringInput(\n",
        "    gcs_uri=TRAINING_URI, data_format=\"csv\"\n",
        ")"
      ]
    },
    {
      "cell_type": "markdown",
      "metadata": {
        "id": "5ZnBZUEMjtDD"
      },
      "source": [
        "#### Create a model monitor resource"
      ]
    },
    {
      "cell_type": "markdown",
      "metadata": {
        "id": "OPBdgqz6jv9_"
      },
      "source": [
        "A model monitor is a top-level resource to manage your metrics and model monitoring jobs."
      ]
    },
    {
      "cell_type": "code",
      "execution_count": null,
      "metadata": {
        "id": "l_d917Ory595",
        "outputId": "e164083d-121d-477a-d7e1-95e2bb367477",
        "colab": {
          "base_uri": "https://localhost:8080/"
        }
      },
      "outputs": [
        {
          "output_type": "stream",
          "name": "stderr",
          "text": [
            "INFO:vertexai.resources.preview.ml_monitoring.model_monitors:Creating ModelMonitor\n",
            "INFO:vertexai.resources.preview.ml_monitoring.model_monitors:Create ModelMonitor backing LRO: projects/742458474659/locations/us-central1/modelMonitors/5817894254562770944/operations/967507869517742080\n",
            "INFO:vertexai.resources.preview.ml_monitoring.model_monitors:ModelMonitor created. Resource name: projects/742458474659/locations/us-central1/modelMonitors/5817894254562770944\n",
            "INFO:vertexai.resources.preview.ml_monitoring.model_monitors:To use this ModelMonitor in another session:\n",
            "INFO:vertexai.resources.preview.ml_monitoring.model_monitors:model_monitor = aiplatform.ModelMonitor('projects/742458474659/locations/us-central1/modelMonitors/5817894254562770944')\n",
            "INFO:vertexai.resources.preview.ml_monitoring.model_monitors:https://console.cloud.google.com/vertex-ai/model-monitoring/locations/us-central1/model-monitors/5817894254562770944?project=argolis-project-340214\n"
          ]
        },
        {
          "output_type": "stream",
          "name": "stdout",
          "text": [
            "MODEL MONITOR 5817894254562770944 created.\n"
          ]
        }
      ],
      "source": [
        "from vertexai.resources.preview import ml_monitoring\n",
        "\n",
        "my_model_monitor = ml_monitoring.ModelMonitor.create(\n",
        "    project=PROJECT_ID,\n",
        "    location=LOCATION,\n",
        "    display_name=\"churn_model_monitor\",\n",
        "    model_name=model.resource_name,\n",
        "    model_version_id=\"1\",\n",
        "    training_dataset=TRAINING_DATASET,\n",
        "    model_monitoring_schema=MODEL_MONITORING_SCHEMA,\n",
        ")\n",
        "MODEL_MONITOR_ID = my_model_monitor.name\n",
        "print(f\"MODEL MONITOR {MODEL_MONITOR_ID} created.\")"
      ]
    },
    {
      "cell_type": "markdown",
      "metadata": {
        "id": "dkHlwQuVli_2"
      },
      "source": [
        "### Step 4: Run an on-demand model monitoring job"
      ]
    },
    {
      "cell_type": "markdown",
      "metadata": {
        "id": "GpVp3fh3rkov"
      },
      "source": [
        "#### Define the monitoring objective configs\n",
        "\n",
        "For tabular models, Model Monitoring supports the following objectives:\n",
        "\n",
        "*   **Input feature drift detection**\n",
        "\n",
        "    Model Monitoring offers drift analysis for both categorical and numeric feature types, with the following supported metrics:\n",
        "\n",
        "    *    Categorical Feature: `Jensen Shannon Divergence`, `L Infinity`\n",
        "    *    Numeric Feature: `Jensen Shannon Divergence`\n",
        "\n",
        "    You can choose to analyze only the features of interest by specifying them in the `features` fields of the `ml_monitoring.spec.DataDriftSpec` specification. If not specified, all input features in the model schema are analyzed. Additionally, you have the option to set default thresholds for categorical or numeric features, or you can specify thresholds for individual features. If the detected drift surpasses a threshold, an alert is sent through email or another notification channel.\n",
        "\n",
        "*  **Prediction output drift detection**\n",
        "\n",
        "    Similar to input feature drift detection, prediction output drift detection identifies data drift in the prediction outputs.\n",
        "\n",
        "*   **Feature attribution drift detection**\n",
        "\n",
        "    Model Monitoring leverages Vertex Explainable AI to monitor feature attributions. Explainable AI enables you to understand the relative contribution of each feature to a resulting prediction. In essence, it assesses the magnitude of each feature's influence.\n",
        "    You must configure the `Explanation` specification with the feature attribution objectives configuration.\n"
      ]
    },
    {
      "cell_type": "markdown",
      "metadata": {
        "id": "n49LgtHBfpTE"
      },
      "source": [
        "Input feature drift specification"
      ]
    },
    {
      "cell_type": "code",
      "execution_count": null,
      "metadata": {
        "id": "CtrsEblNqzLT"
      },
      "outputs": [],
      "source": [
        "from vertexai.resources.preview import ml_monitoring\n",
        "\n",
        "FEATURE_THRESHOLDS = {\n",
        "    \"country\": 0.003,\n",
        "    \"cnt_user_engagement\": 0.004,\n",
        "}\n",
        "\n",
        "FEATURE_DRIFT_SPEC = ml_monitoring.spec.DataDriftSpec(\n",
        "    categorical_metric_type=\"l_infinity\",\n",
        "    numeric_metric_type=\"jensen_shannon_divergence\",\n",
        "    default_categorical_alert_threshold=0.2,\n",
        "    default_numeric_alert_threshold=0.3,\n",
        "    feature_alert_thresholds=FEATURE_THRESHOLDS,\n",
        ")"
      ]
    },
    {
      "cell_type": "markdown",
      "metadata": {
        "id": "DsuNTFAeftgj"
      },
      "source": [
        "Prediction output drift specification"
      ]
    },
    {
      "cell_type": "code",
      "execution_count": null,
      "metadata": {
        "id": "tcUz6OFvfoBv"
      },
      "outputs": [],
      "source": [
        "PREDICTION_OUTPUT_DRIFT_SPEC = ml_monitoring.spec.DataDriftSpec(\n",
        "    categorical_metric_type=\"l_infinity\",\n",
        "    numeric_metric_type=\"jensen_shannon_divergence\",\n",
        "    default_categorical_alert_threshold=0.1,\n",
        "    default_numeric_alert_threshold=0.1,\n",
        ")"
      ]
    },
    {
      "cell_type": "markdown",
      "metadata": {
        "id": "ak54Y713f1aj"
      },
      "source": [
        "Feature attribution specification"
      ]
    },
    {
      "cell_type": "code",
      "execution_count": null,
      "metadata": {
        "id": "GgIZLRJa5QY4"
      },
      "outputs": [],
      "source": [
        "FEATURE_ATTRIBUTION_SPEC = ml_monitoring.spec.FeatureAttributionSpec(\n",
        "    default_alert_threshold=0.0003,\n",
        "    feature_alert_thresholds={\"cnt_ad_reward\": 0.0001},\n",
        ")"
      ]
    },
    {
      "cell_type": "markdown",
      "metadata": {
        "id": "avV5qcCUr9IT"
      },
      "source": [
        "#### Define the alert notification and metrics output spec."
      ]
    },
    {
      "cell_type": "markdown",
      "metadata": {
        "id": "8N9YlXzOvyOs"
      },
      "source": [
        "Model Monitoring supports the following notification methods:\n",
        "\n",
        "*   Email\n",
        "*   [Notification Channel](https://cloud.google.com/monitoring/support/notification-options)\n",
        "*   [Cloud Logging](https://cloud.google.com/logging/docs)  \n",
        "\n",
        "This notebook uses email as an example."
      ]
    },
    {
      "cell_type": "markdown",
      "metadata": {
        "id": "7jzY1mpdw-CY"
      },
      "source": [
        "Export generated metrics to the Google Cloud Storage location that you specified or, if you don't specify a location, Vertex AI creates a default bucket to use."
      ]
    },
    {
      "cell_type": "code",
      "execution_count": null,
      "metadata": {
        "id": "yclsJhNrsI-F"
      },
      "outputs": [],
      "source": [
        "import os\n",
        "\n",
        "from vertexai.resources.preview import ml_monitoring\n",
        "\n",
        "EMAIL = \"guruvittal@google.com\"  # @param {type:\"string\"}\n",
        "if os.getenv(\"IS_TESTING\"):\n",
        "    EMAIL = \"noreply@google.com\"\n",
        "\n",
        "NOTIFICATION_SPEC = ml_monitoring.spec.NotificationSpec(\n",
        "    user_emails=[EMAIL],\n",
        ")\n",
        "\n",
        "OUTPUT_SPEC = ml_monitoring.spec.OutputSpec(gcs_base_dir=BUCKET_URI)"
      ]
    },
    {
      "cell_type": "markdown",
      "metadata": {
        "id": "rQzbfaAFq9mV"
      },
      "source": [
        "#### Run Model Monitoring Jobs"
      ]
    },
    {
      "cell_type": "markdown",
      "metadata": {
        "id": "saA2MVZ-Yhy_"
      },
      "source": [
        "##### **Example 1: Detect feature drift by comparing a batch prediction job with the training dataset.**"
      ]
    },
    {
      "cell_type": "markdown",
      "metadata": {
        "id": "B1qxAIA5qvpR"
      },
      "source": [
        "Let's first create a batch prediction job."
      ]
    },
    {
      "cell_type": "code",
      "execution_count": null,
      "metadata": {
        "id": "CIujU9oBqwPp",
        "outputId": "a5fbafcf-a782-4418-8c8f-cd737803048a",
        "colab": {
          "base_uri": "https://localhost:8080/"
        }
      },
      "outputs": [
        {
          "output_type": "stream",
          "name": "stdout",
          "text": [
            "Copying gs://cloud-samples-data/vertex-ai/model-monitoring/churn/churn_bp_input_1.jsonl [Content-Type=application/octet-stream]...\n",
            "/ [0 files][    0.0 B/223.9 KiB]                                                \r/ [1 files][223.9 KiB/223.9 KiB]                                                \r\n",
            "Operation completed over 1 objects/223.9 KiB.                                    \n"
          ]
        }
      ],
      "source": [
        "BP_INPUT_URI_1 = f\"{BUCKET_URI}/model-monitoring/churn/churn_bp_input_1.jsonl\"\n",
        "! gsutil copy gs://cloud-samples-data/vertex-ai/model-monitoring/churn/churn_bp_input_1.jsonl $BP_INPUT_URI_1"
      ]
    },
    {
      "cell_type": "code",
      "execution_count": null,
      "metadata": {
        "id": "-ZYgqB8ZmbDo",
        "outputId": "5cf366b8-7b44-4ad7-ad33-27c856dc7c39",
        "colab": {
          "base_uri": "https://localhost:8080/"
        }
      },
      "outputs": [
        {
          "output_type": "stream",
          "name": "stderr",
          "text": [
            "INFO:google.cloud.aiplatform.jobs:Creating BatchPredictionJob\n",
            "INFO:google.cloud.aiplatform.jobs:BatchPredictionJob created. Resource name: projects/742458474659/locations/us-central1/batchPredictionJobs/6492679693173522432\n",
            "INFO:google.cloud.aiplatform.jobs:To use this BatchPredictionJob in another session:\n",
            "INFO:google.cloud.aiplatform.jobs:bpj = aiplatform.BatchPredictionJob('projects/742458474659/locations/us-central1/batchPredictionJobs/6492679693173522432')\n",
            "INFO:google.cloud.aiplatform.jobs:View Batch Prediction Job:\n",
            "https://console.cloud.google.com/ai/platform/locations/us-central1/batch-predictions/6492679693173522432?project=742458474659\n",
            "INFO:google.cloud.aiplatform.jobs:BatchPredictionJob projects/742458474659/locations/us-central1/batchPredictionJobs/6492679693173522432 current state:\n",
            "JobState.JOB_STATE_RUNNING\n",
            "INFO:google.cloud.aiplatform.jobs:BatchPredictionJob projects/742458474659/locations/us-central1/batchPredictionJobs/6492679693173522432 current state:\n",
            "JobState.JOB_STATE_RUNNING\n",
            "INFO:google.cloud.aiplatform.jobs:BatchPredictionJob projects/742458474659/locations/us-central1/batchPredictionJobs/6492679693173522432 current state:\n",
            "JobState.JOB_STATE_RUNNING\n",
            "INFO:google.cloud.aiplatform.jobs:BatchPredictionJob projects/742458474659/locations/us-central1/batchPredictionJobs/6492679693173522432 current state:\n",
            "JobState.JOB_STATE_RUNNING\n",
            "INFO:google.cloud.aiplatform.jobs:BatchPredictionJob projects/742458474659/locations/us-central1/batchPredictionJobs/6492679693173522432 current state:\n",
            "JobState.JOB_STATE_RUNNING\n",
            "INFO:google.cloud.aiplatform.jobs:BatchPredictionJob projects/742458474659/locations/us-central1/batchPredictionJobs/6492679693173522432 current state:\n",
            "JobState.JOB_STATE_RUNNING\n",
            "INFO:google.cloud.aiplatform.jobs:BatchPredictionJob projects/742458474659/locations/us-central1/batchPredictionJobs/6492679693173522432 current state:\n",
            "JobState.JOB_STATE_RUNNING\n",
            "INFO:google.cloud.aiplatform.jobs:BatchPredictionJob projects/742458474659/locations/us-central1/batchPredictionJobs/6492679693173522432 current state:\n",
            "JobState.JOB_STATE_SUCCEEDED\n",
            "INFO:google.cloud.aiplatform.jobs:BatchPredictionJob run completed. Resource name: projects/742458474659/locations/us-central1/batchPredictionJobs/6492679693173522432\n"
          ]
        }
      ],
      "source": [
        "batch_prediction_job_1 = model.batch_predict(\n",
        "    generate_explanation=True,\n",
        "    job_display_name=\"bp_example_1\",\n",
        "    instances_format=\"jsonl\",\n",
        "    machine_type=\"n1-standard-4\",\n",
        "    gcs_source=[BP_INPUT_URI_1],\n",
        "    gcs_destination_prefix=f\"{BUCKET_URI}/bp_output\",\n",
        "    sync=True,\n",
        ")"
      ]
    },
    {
      "cell_type": "code",
      "execution_count": null,
      "metadata": {
        "id": "S-3ilL5-03k8",
        "outputId": "4d4ec68a-d1e0-4f5b-a392-6875adfb81ce",
        "colab": {
          "base_uri": "https://localhost:8080/"
        }
      },
      "outputs": [
        {
          "output_type": "stream",
          "name": "stderr",
          "text": [
            "INFO:vertexai.resources.preview.ml_monitoring.model_monitors:ModelMonitoringJob created. Resource name: projects/742458474659/locations/us-central1/modelMonitors/5817894254562770944/modelMonitoringJobs/4093543362861203456\n",
            "INFO:vertexai.resources.preview.ml_monitoring.model_monitors:To use this ModelMonitoringJob in another session:\n",
            "INFO:vertexai.resources.preview.ml_monitoring.model_monitors:model_monitoring_job = aiplatform.ModelMonitoringJob('projects/742458474659/locations/us-central1/modelMonitors/5817894254562770944/modelMonitoringJobs/4093543362861203456')\n"
          ]
        }
      ],
      "source": [
        "import pandas as pd\n",
        "from vertexai.resources.preview import ml_monitoring\n",
        "\n",
        "TIMESTAMP = pd.Timestamp.utcnow().strftime(\"%Y%m%d%H%M%S\")\n",
        "JOB_DISPLAY_NAME = f\"churn_model_monitoring_job_{TIMESTAMP}\"\n",
        "TARGET_DATASET = ml_monitoring.spec.MonitoringInput(\n",
        "    batch_prediction_job=batch_prediction_job_1.resource_name\n",
        ")\n",
        "model_monitoring_job_1 = my_model_monitor.run(\n",
        "    display_name=JOB_DISPLAY_NAME,\n",
        "    baseline_dataset=TRAINING_DATASET,\n",
        "    target_dataset=TARGET_DATASET,\n",
        "    tabular_objective_spec=ml_monitoring.spec.TabularObjective(\n",
        "        # Input feature drift spec.\n",
        "        feature_drift_spec=FEATURE_DRIFT_SPEC\n",
        "    ),\n",
        "    notification_spec=NOTIFICATION_SPEC,\n",
        "    output_spec=OUTPUT_SPEC,\n",
        ")"
      ]
    },
    {
      "cell_type": "markdown",
      "metadata": {
        "id": "ihfK5KxgWEXz"
      },
      "source": [
        "##### **Example 2: Detect feature drift and prediction output drift by comparing a batch prediction job with a previous batch prediction job result.**"
      ]
    },
    {
      "cell_type": "markdown",
      "metadata": {
        "id": "kBhhRjuIa2iv"
      },
      "source": [
        "You can set up multiple objectives within a single model monitoring job. All metrics are computed by using the same baseline and target dataset.\n",
        "\n",
        "Create another batch prediction job and compare it with the batch prediction job created previously."
      ]
    },
    {
      "cell_type": "code",
      "execution_count": null,
      "metadata": {
        "id": "IO2sXgSAXu5A",
        "outputId": "4e4d4f37-7c5b-460c-a171-752bb8b619be",
        "colab": {
          "base_uri": "https://localhost:8080/"
        }
      },
      "outputs": [
        {
          "output_type": "stream",
          "name": "stdout",
          "text": [
            "Copying gs://cloud-samples-data/vertex-ai/model-monitoring/churn/churn_bp_input_2.jsonl [Content-Type=application/octet-stream]...\n",
            "/ [0 files][    0.0 B/443.4 KiB]                                                \r/ [1 files][443.4 KiB/443.4 KiB]                                                \r\n",
            "Operation completed over 1 objects/443.4 KiB.                                    \n"
          ]
        }
      ],
      "source": [
        "BP_INPUT_URI_2 = f\"{BUCKET_URI}/model-monitoring/churn/churn_bp_input_2.jsonl\"\n",
        "! gsutil copy gs://cloud-samples-data/vertex-ai/model-monitoring/churn/churn_bp_input_2.jsonl $BP_INPUT_URI_2"
      ]
    },
    {
      "cell_type": "code",
      "execution_count": null,
      "metadata": {
        "id": "d6CIK_1rWOT7",
        "outputId": "a4c63900-8e9c-4b42-c5fb-cdd95f2e0bc2",
        "colab": {
          "base_uri": "https://localhost:8080/"
        }
      },
      "outputs": [
        {
          "output_type": "stream",
          "name": "stderr",
          "text": [
            "INFO:google.cloud.aiplatform.jobs:Creating BatchPredictionJob\n",
            "INFO:google.cloud.aiplatform.jobs:BatchPredictionJob created. Resource name: projects/742458474659/locations/us-central1/batchPredictionJobs/4536710080011173888\n",
            "INFO:google.cloud.aiplatform.jobs:To use this BatchPredictionJob in another session:\n",
            "INFO:google.cloud.aiplatform.jobs:bpj = aiplatform.BatchPredictionJob('projects/742458474659/locations/us-central1/batchPredictionJobs/4536710080011173888')\n",
            "INFO:google.cloud.aiplatform.jobs:View Batch Prediction Job:\n",
            "https://console.cloud.google.com/ai/platform/locations/us-central1/batch-predictions/4536710080011173888?project=742458474659\n",
            "INFO:google.cloud.aiplatform.jobs:BatchPredictionJob projects/742458474659/locations/us-central1/batchPredictionJobs/4536710080011173888 current state:\n",
            "JobState.JOB_STATE_RUNNING\n",
            "INFO:google.cloud.aiplatform.jobs:BatchPredictionJob projects/742458474659/locations/us-central1/batchPredictionJobs/4536710080011173888 current state:\n",
            "JobState.JOB_STATE_RUNNING\n",
            "INFO:google.cloud.aiplatform.jobs:BatchPredictionJob projects/742458474659/locations/us-central1/batchPredictionJobs/4536710080011173888 current state:\n",
            "JobState.JOB_STATE_RUNNING\n",
            "INFO:google.cloud.aiplatform.jobs:BatchPredictionJob projects/742458474659/locations/us-central1/batchPredictionJobs/4536710080011173888 current state:\n",
            "JobState.JOB_STATE_RUNNING\n",
            "INFO:google.cloud.aiplatform.jobs:BatchPredictionJob projects/742458474659/locations/us-central1/batchPredictionJobs/4536710080011173888 current state:\n",
            "JobState.JOB_STATE_RUNNING\n",
            "INFO:google.cloud.aiplatform.jobs:BatchPredictionJob projects/742458474659/locations/us-central1/batchPredictionJobs/4536710080011173888 current state:\n",
            "JobState.JOB_STATE_RUNNING\n",
            "INFO:google.cloud.aiplatform.jobs:BatchPredictionJob projects/742458474659/locations/us-central1/batchPredictionJobs/4536710080011173888 current state:\n",
            "JobState.JOB_STATE_RUNNING\n",
            "INFO:google.cloud.aiplatform.jobs:BatchPredictionJob projects/742458474659/locations/us-central1/batchPredictionJobs/4536710080011173888 current state:\n",
            "JobState.JOB_STATE_SUCCEEDED\n",
            "INFO:google.cloud.aiplatform.jobs:BatchPredictionJob run completed. Resource name: projects/742458474659/locations/us-central1/batchPredictionJobs/4536710080011173888\n"
          ]
        }
      ],
      "source": [
        "batch_prediction_job_2 = model.batch_predict(\n",
        "    job_display_name=\"bp_example_2\",\n",
        "    instances_format=\"jsonl\",\n",
        "    machine_type=\"n1-standard-4\",\n",
        "    gcs_source=[BP_INPUT_URI_2],\n",
        "    gcs_destination_prefix=f\"{BUCKET_URI}/bp_output\",\n",
        "    sync=True,\n",
        ")"
      ]
    },
    {
      "cell_type": "code",
      "execution_count": null,
      "metadata": {
        "id": "Knp5-4I-WKOa",
        "outputId": "b9dc1892-0c97-439f-f841-435c7d4dadac",
        "colab": {
          "base_uri": "https://localhost:8080/"
        }
      },
      "outputs": [
        {
          "output_type": "stream",
          "name": "stderr",
          "text": [
            "INFO:vertexai.resources.preview.ml_monitoring.model_monitors:ModelMonitoringJob created. Resource name: projects/742458474659/locations/us-central1/modelMonitors/5817894254562770944/modelMonitoringJobs/8613327801392562176\n",
            "INFO:vertexai.resources.preview.ml_monitoring.model_monitors:To use this ModelMonitoringJob in another session:\n",
            "INFO:vertexai.resources.preview.ml_monitoring.model_monitors:model_monitoring_job = aiplatform.ModelMonitoringJob('projects/742458474659/locations/us-central1/modelMonitors/5817894254562770944/modelMonitoringJobs/8613327801392562176')\n"
          ]
        }
      ],
      "source": [
        "import pandas as pd\n",
        "from vertexai.resources.preview import ml_monitoring\n",
        "\n",
        "TIMESTAMP = pd.Timestamp.utcnow().strftime(\"%Y%m%d%H%M%S\")\n",
        "JOB_DISPLAY_NAME = f\"churn_model_monitoring_job_{TIMESTAMP}\"\n",
        "BASELINE_DATASET = ml_monitoring.spec.MonitoringInput(\n",
        "    batch_prediction_job=batch_prediction_job_1.resource_name\n",
        ")\n",
        "TARGET_DATASET = ml_monitoring.spec.MonitoringInput(\n",
        "    batch_prediction_job=batch_prediction_job_2.resource_name\n",
        ")\n",
        "model_monitoring_job_2 = my_model_monitor.run(\n",
        "    display_name=JOB_DISPLAY_NAME,\n",
        "    baseline_dataset=BASELINE_DATASET,\n",
        "    target_dataset=TARGET_DATASET,\n",
        "    tabular_objective_spec=ml_monitoring.spec.TabularObjective(\n",
        "        # Input feature drift spec.\n",
        "        feature_drift_spec=FEATURE_DRIFT_SPEC,\n",
        "        # Prediction output drift spec.\n",
        "        prediction_output_drift_spec=PREDICTION_OUTPUT_DRIFT_SPEC,\n",
        "    ),\n",
        "    notification_spec=NOTIFICATION_SPEC,\n",
        "    output_spec=OUTPUT_SPEC,\n",
        ")"
      ]
    },
    {
      "cell_type": "markdown",
      "metadata": {
        "id": "AprOJ3ZchX7z"
      },
      "source": [
        "##### **Example 3: Feature attribution drift detection, compares the batch prediction job with a GCS baseline dataset**"
      ]
    },
    {
      "cell_type": "markdown",
      "metadata": {
        "id": "kP7t8p8Ih2a-"
      },
      "source": [
        "For feature attribution monitoring, the dataset is sent to the Vertex AI batch explanation job in the following way:\n",
        "\n",
        "*   Google Cloud Storage -> Sent directly as input to Vertex AI batch explanation job.\n",
        "*   BigQuery table -> Sent directly as input to Vertex AI batch explanation job.\n",
        "*   BigQuery Query -> Not supported.\n",
        "*   Vertex AI batch explanation job -> Input of batch prediction job is used as input for the Vertex AI batch explanation job.\n",
        "*   Vertex AI endpoint logging -> Request logging is used as input for Vertex AI batch explanation job.\n",
        "\n",
        "Check that these datasets meet the requirements for a Vertex AI batch explanation job."
      ]
    },
    {
      "cell_type": "markdown",
      "metadata": {
        "id": "vmT9aF-YxGBS"
      },
      "source": [
        "###### Generate model metadata for Vertex Explainable AI\n",
        "You must specify the explanation specification to use a Vertex AI batch explanation job. Run the following cell to extract metadata from the exported model, which is needed for generating the explanations for a prediction request."
      ]
    },
    {
      "cell_type": "code",
      "execution_count": null,
      "metadata": {
        "id": "oLl6q8f4xFK5"
      },
      "outputs": [],
      "source": [
        "from google.cloud.aiplatform_v1beta1.types import (ExplanationMetadata,\n",
        "                                                   ExplanationParameters,\n",
        "                                                   ExplanationSpec)\n",
        "\n",
        "EXPLANATION_SPEC = ExplanationSpec(\n",
        "    parameters=ExplanationParameters(\n",
        "        {\"sampled_shapley_attribution\": {\"path_count\": 2}}\n",
        "    ),\n",
        "    metadata=ExplanationMetadata(\n",
        "        inputs={\n",
        "            \"cnt_ad_reward\": ExplanationMetadata.InputMetadata(\n",
        "                {\n",
        "                    \"input_tensor_name\": \"cnt_ad_reward\",\n",
        "                    \"encoding\": \"IDENTITY\",\n",
        "                    \"modality\": \"numeric\",\n",
        "                }\n",
        "            ),\n",
        "            \"cnt_challenge_a_friend\": ExplanationMetadata.InputMetadata(\n",
        "                {\n",
        "                    \"input_tensor_name\": \"cnt_challenge_a_friend\",\n",
        "                    \"encoding\": \"IDENTITY\",\n",
        "                    \"modality\": \"numeric\",\n",
        "                }\n",
        "            ),\n",
        "            \"cnt_completed_5_levels\": ExplanationMetadata.InputMetadata(\n",
        "                {\n",
        "                    \"input_tensor_name\": \"cnt_completed_5_levels\",\n",
        "                    \"encoding\": \"IDENTITY\",\n",
        "                    \"modality\": \"numeric\",\n",
        "                }\n",
        "            ),\n",
        "            \"cnt_level_complete_quickplay\": ExplanationMetadata.InputMetadata(\n",
        "                {\n",
        "                    \"input_tensor_name\": \"cnt_level_complete_quickplay\",\n",
        "                    \"encoding\": \"IDENTITY\",\n",
        "                    \"modality\": \"numeric\",\n",
        "                }\n",
        "            ),\n",
        "            \"cnt_level_end_quickplay\": ExplanationMetadata.InputMetadata(\n",
        "                {\n",
        "                    \"input_tensor_name\": \"cnt_level_end_quickplay\",\n",
        "                    \"encoding\": \"IDENTITY\",\n",
        "                    \"modality\": \"numeric\",\n",
        "                }\n",
        "            ),\n",
        "            \"cnt_level_reset_quickplay\": ExplanationMetadata.InputMetadata(\n",
        "                {\n",
        "                    \"input_tensor_name\": \"cnt_level_reset_quickplay\",\n",
        "                    \"encoding\": \"IDENTITY\",\n",
        "                    \"modality\": \"numeric\",\n",
        "                }\n",
        "            ),\n",
        "            \"cnt_level_start_quickplay\": ExplanationMetadata.InputMetadata(\n",
        "                {\n",
        "                    \"input_tensor_name\": \"cnt_level_start_quickplay\",\n",
        "                    \"encoding\": \"IDENTITY\",\n",
        "                    \"modality\": \"numeric\",\n",
        "                }\n",
        "            ),\n",
        "            \"cnt_post_score\": ExplanationMetadata.InputMetadata(\n",
        "                {\n",
        "                    \"input_tensor_name\": \"cnt_post_score\",\n",
        "                    \"encoding\": \"IDENTITY\",\n",
        "                    \"modality\": \"numeric\",\n",
        "                }\n",
        "            ),\n",
        "            \"cnt_spend_virtual_currency\": ExplanationMetadata.InputMetadata(\n",
        "                {\n",
        "                    \"input_tensor_name\": \"cnt_spend_virtual_currency\",\n",
        "                    \"encoding\": \"IDENTITY\",\n",
        "                    \"modality\": \"numeric\",\n",
        "                }\n",
        "            ),\n",
        "            \"cnt_use_extra_steps\": ExplanationMetadata.InputMetadata(\n",
        "                {\n",
        "                    \"input_tensor_name\": \"cnt_use_extra_steps\",\n",
        "                    \"encoding\": \"IDENTITY\",\n",
        "                    \"modality\": \"numeric\",\n",
        "                }\n",
        "            ),\n",
        "            \"cnt_user_engagement\": ExplanationMetadata.InputMetadata(\n",
        "                {\n",
        "                    \"input_tensor_name\": \"cnt_user_engagement\",\n",
        "                    \"encoding\": \"IDENTITY\",\n",
        "                    \"modality\": \"numeric\",\n",
        "                }\n",
        "            ),\n",
        "            \"country\": ExplanationMetadata.InputMetadata(\n",
        "                {\n",
        "                    \"input_tensor_name\": \"country\",\n",
        "                    \"encoding\": \"IDENTITY\",\n",
        "                    \"modality\": \"categorical\",\n",
        "                }\n",
        "            ),\n",
        "            \"dayofweek\": ExplanationMetadata.InputMetadata(\n",
        "                {\n",
        "                    \"input_tensor_name\": \"dayofweek\",\n",
        "                    \"encoding\": \"IDENTITY\",\n",
        "                    \"modality\": \"numeric\",\n",
        "                }\n",
        "            ),\n",
        "            \"julianday\": ExplanationMetadata.InputMetadata(\n",
        "                {\n",
        "                    \"input_tensor_name\": \"julianday\",\n",
        "                    \"encoding\": \"IDENTITY\",\n",
        "                    \"modality\": \"numeric\",\n",
        "                }\n",
        "            ),\n",
        "            \"language\": ExplanationMetadata.InputMetadata(\n",
        "                {\n",
        "                    \"input_tensor_name\": \"language\",\n",
        "                    \"encoding\": \"IDENTITY\",\n",
        "                    \"modality\": \"categorical\",\n",
        "                }\n",
        "            ),\n",
        "            \"month\": ExplanationMetadata.InputMetadata(\n",
        "                {\n",
        "                    \"input_tensor_name\": \"month\",\n",
        "                    \"encoding\": \"IDENTITY\",\n",
        "                    \"modality\": \"numeric\",\n",
        "                }\n",
        "            ),\n",
        "            \"operating_system\": ExplanationMetadata.InputMetadata(\n",
        "                {\n",
        "                    \"input_tensor_name\": \"operating_system\",\n",
        "                    \"encoding\": \"IDENTITY\",\n",
        "                    \"modality\": \"categorical\",\n",
        "                }\n",
        "            ),\n",
        "            \"user_pseudo_id\": ExplanationMetadata.InputMetadata(\n",
        "                {\n",
        "                    \"input_tensor_name\": \"user_pseudo_id\",\n",
        "                    \"encoding\": \"IDENTITY\",\n",
        "                    \"modality\": \"categorical\",\n",
        "                }\n",
        "            ),\n",
        "        },\n",
        "        outputs={\n",
        "            \"churned_probs\": ExplanationMetadata.OutputMetadata(\n",
        "                {\"output_tensor_name\": \"churned_probs\"}\n",
        "            )\n",
        "        },\n",
        "    ),\n",
        ")"
      ]
    },
    {
      "cell_type": "code",
      "execution_count": null,
      "metadata": {
        "id": "hexssbF7wC6A",
        "outputId": "95402aaa-7c27-4b21-891f-71a62ce1b2b1",
        "colab": {
          "base_uri": "https://localhost:8080/"
        }
      },
      "outputs": [
        {
          "output_type": "stream",
          "name": "stdout",
          "text": [
            "Copying gs://cloud-samples-data/vertex-ai/model-monitoring/churn/churn_no_ground_truth.jsonl [Content-Type=application/octet-stream]...\n",
            "/ [1 files][  3.5 MiB/  3.5 MiB]                                                \n",
            "Operation completed over 1 objects/3.5 MiB.                                      \n"
          ]
        }
      ],
      "source": [
        "FEATURE_ATTRIBUTION_BASELINE_DATASET = (\n",
        "    f\"{BUCKET_URI}/model-monitoring/churn/churn_no_ground_truth.jsonl\"\n",
        ")\n",
        "! gsutil cp gs://cloud-samples-data/vertex-ai/model-monitoring/churn/churn_no_ground_truth.jsonl $FEATURE_ATTRIBUTION_BASELINE_DATASET"
      ]
    },
    {
      "cell_type": "code",
      "execution_count": null,
      "metadata": {
        "id": "2SJU52cymulD",
        "outputId": "5fb20339-309b-48f4-fff3-26d6d923209a",
        "colab": {
          "base_uri": "https://localhost:8080/"
        }
      },
      "outputs": [
        {
          "output_type": "stream",
          "name": "stderr",
          "text": [
            "INFO:vertexai.resources.preview.ml_monitoring.model_monitors:ModelMonitoringJob created. Resource name: projects/742458474659/locations/us-central1/modelMonitors/5817894254562770944/modelMonitoringJobs/4521385327461400576\n",
            "INFO:vertexai.resources.preview.ml_monitoring.model_monitors:To use this ModelMonitoringJob in another session:\n",
            "INFO:vertexai.resources.preview.ml_monitoring.model_monitors:model_monitoring_job = aiplatform.ModelMonitoringJob('projects/742458474659/locations/us-central1/modelMonitors/5817894254562770944/modelMonitoringJobs/4521385327461400576')\n"
          ]
        }
      ],
      "source": [
        "import pandas as pd\n",
        "from vertexai.resources.preview import ml_monitoring\n",
        "\n",
        "TIMESTAMP = pd.Timestamp.utcnow().strftime(\"%Y%m%d%H%M%S\")\n",
        "JOB_DISPLAY_NAME = f\"churn_model_monitoring_job_{TIMESTAMP}\"\n",
        "BASELINE_DATASET = ml_monitoring.spec.MonitoringInput(\n",
        "    gcs_uri=FEATURE_ATTRIBUTION_BASELINE_DATASET, data_format=\"jsonl\"\n",
        ")\n",
        "TARGET_DATASET = ml_monitoring.spec.MonitoringInput(\n",
        "    batch_prediction_job=batch_prediction_job_2.resource_name\n",
        ")\n",
        "model_monitoring_job_3 = my_model_monitor.run(\n",
        "    display_name=JOB_DISPLAY_NAME,\n",
        "    baseline_dataset=BASELINE_DATASET,\n",
        "    target_dataset=TARGET_DATASET,\n",
        "    tabular_objective_spec=ml_monitoring.spec.TabularObjective(\n",
        "        # Feature attribution spec.\n",
        "        feature_attribution_spec=FEATURE_ATTRIBUTION_SPEC\n",
        "    ),\n",
        "    # You must have a Explanation spec for feature attribution monitoring.\n",
        "    # You can specify the explanation spec in the Model, Model monitor, or the Model monitoring job.\n",
        "    explanation_spec=EXPLANATION_SPEC,\n",
        "    notification_spec=NOTIFICATION_SPEC,\n",
        "    output_spec=OUTPUT_SPEC,\n",
        ")"
      ]
    },
    {
      "cell_type": "markdown",
      "metadata": {
        "id": "pzYcMoKTP0rG"
      },
      "source": [
        "##### List Model Monitoring Jobs"
      ]
    },
    {
      "cell_type": "code",
      "execution_count": null,
      "metadata": {
        "id": "urFYUjaZ7iCP",
        "outputId": "577dd171-b812-4bad-f6c3-eb0103bbdbbc",
        "colab": {
          "base_uri": "https://localhost:8080/"
        }
      },
      "outputs": [
        {
          "output_type": "execute_result",
          "data": {
            "text/plain": [
              "[name: \"projects/742458474659/locations/us-central1/modelMonitors/5817894254562770944/modelMonitoringJobs/4521385327461400576\"\n",
              "display_name: \"churn_model_monitoring_job_20240622174942\"\n",
              "model_monitoring_spec {\n",
              "  objective_spec {\n",
              "    tabular_objective {\n",
              "      feature_attribution_spec {\n",
              "        default_alert_condition {\n",
              "          threshold: 0.0003\n",
              "        }\n",
              "        feature_alert_conditions {\n",
              "          key: \"cnt_ad_reward\"\n",
              "          value {\n",
              "            threshold: 0.0001\n",
              "          }\n",
              "        }\n",
              "      }\n",
              "    }\n",
              "    explanation_spec {\n",
              "      parameters {\n",
              "        sampled_shapley_attribution {\n",
              "          path_count: 2\n",
              "        }\n",
              "      }\n",
              "      metadata {\n",
              "        inputs {\n",
              "          key: \"cnt_ad_reward\"\n",
              "          value {\n",
              "            input_tensor_name: \"cnt_ad_reward\"\n",
              "            encoding: IDENTITY\n",
              "            modality: \"numeric\"\n",
              "          }\n",
              "        }\n",
              "        inputs {\n",
              "          key: \"cnt_challenge_a_friend\"\n",
              "          value {\n",
              "            input_tensor_name: \"cnt_challenge_a_friend\"\n",
              "            encoding: IDENTITY\n",
              "            modality: \"numeric\"\n",
              "          }\n",
              "        }\n",
              "        inputs {\n",
              "          key: \"cnt_completed_5_levels\"\n",
              "          value {\n",
              "            input_tensor_name: \"cnt_completed_5_levels\"\n",
              "            encoding: IDENTITY\n",
              "            modality: \"numeric\"\n",
              "          }\n",
              "        }\n",
              "        inputs {\n",
              "          key: \"cnt_level_complete_quickplay\"\n",
              "          value {\n",
              "            input_tensor_name: \"cnt_level_complete_quickplay\"\n",
              "            encoding: IDENTITY\n",
              "            modality: \"numeric\"\n",
              "          }\n",
              "        }\n",
              "        inputs {\n",
              "          key: \"cnt_level_end_quickplay\"\n",
              "          value {\n",
              "            input_tensor_name: \"cnt_level_end_quickplay\"\n",
              "            encoding: IDENTITY\n",
              "            modality: \"numeric\"\n",
              "          }\n",
              "        }\n",
              "        inputs {\n",
              "          key: \"cnt_level_reset_quickplay\"\n",
              "          value {\n",
              "            input_tensor_name: \"cnt_level_reset_quickplay\"\n",
              "            encoding: IDENTITY\n",
              "            modality: \"numeric\"\n",
              "          }\n",
              "        }\n",
              "        inputs {\n",
              "          key: \"cnt_level_start_quickplay\"\n",
              "          value {\n",
              "            input_tensor_name: \"cnt_level_start_quickplay\"\n",
              "            encoding: IDENTITY\n",
              "            modality: \"numeric\"\n",
              "          }\n",
              "        }\n",
              "        inputs {\n",
              "          key: \"cnt_post_score\"\n",
              "          value {\n",
              "            input_tensor_name: \"cnt_post_score\"\n",
              "            encoding: IDENTITY\n",
              "            modality: \"numeric\"\n",
              "          }\n",
              "        }\n",
              "        inputs {\n",
              "          key: \"cnt_spend_virtual_currency\"\n",
              "          value {\n",
              "            input_tensor_name: \"cnt_spend_virtual_currency\"\n",
              "            encoding: IDENTITY\n",
              "            modality: \"numeric\"\n",
              "          }\n",
              "        }\n",
              "        inputs {\n",
              "          key: \"cnt_use_extra_steps\"\n",
              "          value {\n",
              "            input_tensor_name: \"cnt_use_extra_steps\"\n",
              "            encoding: IDENTITY\n",
              "            modality: \"numeric\"\n",
              "          }\n",
              "        }\n",
              "        inputs {\n",
              "          key: \"cnt_user_engagement\"\n",
              "          value {\n",
              "            input_tensor_name: \"cnt_user_engagement\"\n",
              "            encoding: IDENTITY\n",
              "            modality: \"numeric\"\n",
              "          }\n",
              "        }\n",
              "        inputs {\n",
              "          key: \"country\"\n",
              "          value {\n",
              "            input_tensor_name: \"country\"\n",
              "            encoding: IDENTITY\n",
              "            modality: \"categorical\"\n",
              "          }\n",
              "        }\n",
              "        inputs {\n",
              "          key: \"dayofweek\"\n",
              "          value {\n",
              "            input_tensor_name: \"dayofweek\"\n",
              "            encoding: IDENTITY\n",
              "            modality: \"numeric\"\n",
              "          }\n",
              "        }\n",
              "        inputs {\n",
              "          key: \"julianday\"\n",
              "          value {\n",
              "            input_tensor_name: \"julianday\"\n",
              "            encoding: IDENTITY\n",
              "            modality: \"numeric\"\n",
              "          }\n",
              "        }\n",
              "        inputs {\n",
              "          key: \"language\"\n",
              "          value {\n",
              "            input_tensor_name: \"language\"\n",
              "            encoding: IDENTITY\n",
              "            modality: \"categorical\"\n",
              "          }\n",
              "        }\n",
              "        inputs {\n",
              "          key: \"month\"\n",
              "          value {\n",
              "            input_tensor_name: \"month\"\n",
              "            encoding: IDENTITY\n",
              "            modality: \"numeric\"\n",
              "          }\n",
              "        }\n",
              "        inputs {\n",
              "          key: \"operating_system\"\n",
              "          value {\n",
              "            input_tensor_name: \"operating_system\"\n",
              "            encoding: IDENTITY\n",
              "            modality: \"categorical\"\n",
              "          }\n",
              "        }\n",
              "        inputs {\n",
              "          key: \"user_pseudo_id\"\n",
              "          value {\n",
              "            input_tensor_name: \"user_pseudo_id\"\n",
              "            encoding: IDENTITY\n",
              "            modality: \"categorical\"\n",
              "          }\n",
              "        }\n",
              "        outputs {\n",
              "          key: \"churned_probs\"\n",
              "          value {\n",
              "            output_tensor_name: \"churned_probs\"\n",
              "          }\n",
              "        }\n",
              "      }\n",
              "    }\n",
              "    baseline_dataset {\n",
              "      columnized_dataset {\n",
              "        gcs_source {\n",
              "          gcs_uri: \"gs://vertex_model_monitoring/model-monitoring/churn/churn_no_ground_truth.jsonl\"\n",
              "          format_: JSONL\n",
              "        }\n",
              "      }\n",
              "    }\n",
              "    target_dataset {\n",
              "      batch_prediction_output {\n",
              "        batch_prediction_job: \"projects/742458474659/locations/us-central1/batchPredictionJobs/4536710080011173888\"\n",
              "      }\n",
              "    }\n",
              "  }\n",
              "  notification_spec {\n",
              "    email_config {\n",
              "      user_emails: \"guruvittal@google.com\"\n",
              "    }\n",
              "  }\n",
              "  output_spec {\n",
              "    gcs_base_directory {\n",
              "      output_uri_prefix: \"gs://vertex_model_monitoring/model_monitoring/5817894254562770944\"\n",
              "    }\n",
              "  }\n",
              "}\n",
              "create_time {\n",
              "  seconds: 1719078583\n",
              "  nanos: 192226000\n",
              "}\n",
              "update_time {\n",
              "  seconds: 1719078583\n",
              "  nanos: 192226000\n",
              "}\n",
              "state: JOB_STATE_RUNNING\n",
              ", name: \"projects/742458474659/locations/us-central1/modelMonitors/5817894254562770944/modelMonitoringJobs/8613327801392562176\"\n",
              "display_name: \"churn_model_monitoring_job_20240622174906\"\n",
              "model_monitoring_spec {\n",
              "  objective_spec {\n",
              "    tabular_objective {\n",
              "      feature_drift_spec {\n",
              "        categorical_metric_type: \"l_infinity\"\n",
              "        numeric_metric_type: \"jensen_shannon_divergence\"\n",
              "        default_categorical_alert_condition {\n",
              "          threshold: 0.2\n",
              "        }\n",
              "        default_numeric_alert_condition {\n",
              "          threshold: 0.3\n",
              "        }\n",
              "        feature_alert_conditions {\n",
              "          key: \"cnt_user_engagement\"\n",
              "          value {\n",
              "            threshold: 0.004\n",
              "          }\n",
              "        }\n",
              "        feature_alert_conditions {\n",
              "          key: \"country\"\n",
              "          value {\n",
              "            threshold: 0.003\n",
              "          }\n",
              "        }\n",
              "      }\n",
              "      prediction_output_drift_spec {\n",
              "        categorical_metric_type: \"l_infinity\"\n",
              "        numeric_metric_type: \"jensen_shannon_divergence\"\n",
              "        default_categorical_alert_condition {\n",
              "          threshold: 0.1\n",
              "        }\n",
              "        default_numeric_alert_condition {\n",
              "          threshold: 0.1\n",
              "        }\n",
              "      }\n",
              "    }\n",
              "    explanation_spec {\n",
              "    }\n",
              "    baseline_dataset {\n",
              "      batch_prediction_output {\n",
              "        batch_prediction_job: \"projects/742458474659/locations/us-central1/batchPredictionJobs/6492679693173522432\"\n",
              "      }\n",
              "    }\n",
              "    target_dataset {\n",
              "      batch_prediction_output {\n",
              "        batch_prediction_job: \"projects/742458474659/locations/us-central1/batchPredictionJobs/4536710080011173888\"\n",
              "      }\n",
              "    }\n",
              "  }\n",
              "  notification_spec {\n",
              "    email_config {\n",
              "      user_emails: \"guruvittal@google.com\"\n",
              "    }\n",
              "  }\n",
              "  output_spec {\n",
              "    gcs_base_directory {\n",
              "      output_uri_prefix: \"gs://vertex_model_monitoring/model_monitoring/5817894254562770944\"\n",
              "    }\n",
              "  }\n",
              "}\n",
              "create_time {\n",
              "  seconds: 1719078546\n",
              "  nanos: 506216000\n",
              "}\n",
              "update_time {\n",
              "  seconds: 1719078546\n",
              "  nanos: 506216000\n",
              "}\n",
              "state: JOB_STATE_RUNNING\n",
              ", name: \"projects/742458474659/locations/us-central1/modelMonitors/5817894254562770944/modelMonitoringJobs/4093543362861203456\"\n",
              "display_name: \"churn_model_monitoring_job_20240622172631\"\n",
              "model_monitoring_spec {\n",
              "  objective_spec {\n",
              "    tabular_objective {\n",
              "      feature_drift_spec {\n",
              "        categorical_metric_type: \"l_infinity\"\n",
              "        numeric_metric_type: \"jensen_shannon_divergence\"\n",
              "        default_categorical_alert_condition {\n",
              "          threshold: 0.2\n",
              "        }\n",
              "        default_numeric_alert_condition {\n",
              "          threshold: 0.3\n",
              "        }\n",
              "        feature_alert_conditions {\n",
              "          key: \"cnt_user_engagement\"\n",
              "          value {\n",
              "            threshold: 0.004\n",
              "          }\n",
              "        }\n",
              "        feature_alert_conditions {\n",
              "          key: \"country\"\n",
              "          value {\n",
              "            threshold: 0.003\n",
              "          }\n",
              "        }\n",
              "      }\n",
              "    }\n",
              "    explanation_spec {\n",
              "    }\n",
              "    baseline_dataset {\n",
              "      columnized_dataset {\n",
              "        gcs_source {\n",
              "          gcs_uri: \"gs://vertex_model_monitoring/model-monitoring/churn/churn_training.csv\"\n",
              "          format_: CSV\n",
              "        }\n",
              "      }\n",
              "    }\n",
              "    target_dataset {\n",
              "      batch_prediction_output {\n",
              "        batch_prediction_job: \"projects/742458474659/locations/us-central1/batchPredictionJobs/6492679693173522432\"\n",
              "      }\n",
              "    }\n",
              "  }\n",
              "  notification_spec {\n",
              "    email_config {\n",
              "      user_emails: \"guruvittal@google.com\"\n",
              "    }\n",
              "  }\n",
              "  output_spec {\n",
              "    gcs_base_directory {\n",
              "      output_uri_prefix: \"gs://vertex_model_monitoring/model_monitoring/5817894254562770944\"\n",
              "    }\n",
              "  }\n",
              "}\n",
              "create_time {\n",
              "  seconds: 1719077192\n",
              "  nanos: 325948000\n",
              "}\n",
              "update_time {\n",
              "  seconds: 1719077458\n",
              "  nanos: 511805000\n",
              "}\n",
              "state: JOB_STATE_SUCCEEDED\n",
              "job_execution_detail {\n",
              "  objective_status {\n",
              "    key: \"RAW_FEATURE_DRIFT\"\n",
              "    value {\n",
              "    }\n",
              "  }\n",
              "}\n",
              "]"
            ]
          },
          "metadata": {},
          "execution_count": 24
        }
      ],
      "source": [
        "my_model_monitor.list_jobs()"
      ]
    },
    {
      "cell_type": "markdown",
      "metadata": {
        "id": "nL10YABxl47v"
      },
      "source": [
        "### Step 5: Wait for the Model Monitoring Job to run and verify the result"
      ]
    },
    {
      "cell_type": "markdown",
      "metadata": {
        "id": "LrSU6d0xFfzv"
      },
      "source": [
        "#### Verify results through email"
      ]
    },
    {
      "cell_type": "markdown",
      "metadata": {
        "id": "zw5KodgebDVE"
      },
      "source": [
        "After the model monitoring job begins running, which starts after the batch prediction jobs have finished, you receive an email like the following one:\n",
        "\n",
        "<img src=\"https://services.google.com/fh/files/misc/create_job_email.png\" />"
      ]
    },
    {
      "cell_type": "markdown",
      "metadata": {
        "id": "37SPm_majLVj"
      },
      "source": [
        "After the monitoring job is complete, if any anomalies are detected, you receive an email similar to the following one:\n",
        "\n",
        "<img src=\"https://services.google.com/fh/files/misc/job_anomalies_email.png\" />"
      ]
    },
    {
      "cell_type": "markdown",
      "metadata": {
        "id": "LPC6ZoerifM6"
      },
      "source": [
        "#### Check monitoring metrics: Google Cloud Console"
      ]
    },
    {
      "cell_type": "markdown",
      "metadata": {
        "id": "4Pw6Z-bVbZaE"
      },
      "source": [
        "To view Model Monitoring metrics in the [Google Cloud Console](https://console.cloud.google.com/vertex-ai/model-monitoring/model-monitors), go to the **Monitoring** tab under **Vertex AI.**\n",
        "\n",
        "<img src=\"https://storage.googleapis.com/cmm-public-data/images/bp_details.gif\" />"
      ]
    },
    {
      "cell_type": "markdown",
      "metadata": {
        "id": "MFZcBnwsdSfa"
      },
      "source": [
        "#### Check monitoring metrics: Cloud Storage bucket\n",
        "\n",
        "Run the following to view Model Monitoring metrics stored in the Cloud Storage bucket.  "
      ]
    },
    {
      "cell_type": "code",
      "execution_count": null,
      "metadata": {
        "id": "NhY20BTjjkVk",
        "outputId": "e5ec3c55-4f70-475a-ae70-80d56c260e3e",
        "colab": {
          "base_uri": "https://localhost:8080/",
          "height": 1000
        }
      },
      "outputs": [
        {
          "output_type": "display_data",
          "data": {
            "text/plain": [
              "<IPython.core.display.HTML object>"
            ],
            "text/html": [
              "<iframe id='facets-iframe' width=\"100%\" height=\"500px\"></iframe>\n",
              "        <script>\n",
              "        facets_iframe = document.getElementById('facets-iframe');\n",
              "        facets_html = '<script src=\"https://cdnjs.cloudflare.com/ajax/libs/webcomponentsjs/1.3.3/webcomponents-lite.js\"><\\/script><link rel=\"import\" href=\"https://raw.githubusercontent.com/PAIR-code/facets/master/facets-dist/facets-jupyter.html\"><facets-overview proto-input=\"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\"></facets-overview>';\n",
              "        facets_iframe.srcdoc = facets_html;\n",
              "         facets_iframe.id = \"\";\n",
              "         setTimeout(() => {\n",
              "           facets_iframe.setAttribute('height', facets_iframe.contentWindow.document.body.offsetHeight + 'px')\n",
              "         }, 1500)\n",
              "         </script>"
            ]
          },
          "metadata": {}
        },
        {
          "output_type": "display_data",
          "data": {
            "text/plain": [
              "                                                                              Anomaly short description  \\\n",
              "Feature name                                                                                              \n",
              "'cnt_completed_5_levels'        High approximate Jensen-Shannon divergence between current and previous   \n",
              "'cnt_use_extra_steps'           High approximate Jensen-Shannon divergence between current and previous   \n",
              "'cnt_post_score'                High approximate Jensen-Shannon divergence between current and previous   \n",
              "'country'                                             High Linfty distance between current and previous   \n",
              "'cnt_level_end_quickplay'       High approximate Jensen-Shannon divergence between current and previous   \n",
              "'cnt_spend_virtual_currency'    High approximate Jensen-Shannon divergence between current and previous   \n",
              "'cnt_level_start_quickplay'     High approximate Jensen-Shannon divergence between current and previous   \n",
              "'cnt_user_engagement'           High approximate Jensen-Shannon divergence between current and previous   \n",
              "'cnt_level_reset_quickplay'     High approximate Jensen-Shannon divergence between current and previous   \n",
              "'cnt_level_complete_quickplay'  High approximate Jensen-Shannon divergence between current and previous   \n",
              "'cnt_challenge_a_friend'        High approximate Jensen-Shannon divergence between current and previous   \n",
              "'cnt_ad_reward'                 High approximate Jensen-Shannon divergence between current and previous   \n",
              "\n",
              "                                                                                                                                                                                     Anomaly long description  \n",
              "Feature name                                                                                                                                                                                                   \n",
              "'cnt_completed_5_levels'                                          The approximate Jensen-Shannon divergence between current and previous is 0.549339 (up to six significant digits), above the threshold 0.3.  \n",
              "'cnt_use_extra_steps'                                             The approximate Jensen-Shannon divergence between current and previous is 0.390741 (up to six significant digits), above the threshold 0.3.  \n",
              "'cnt_post_score'                                                  The approximate Jensen-Shannon divergence between current and previous is 0.352555 (up to six significant digits), above the threshold 0.3.  \n",
              "'country'                       The Linfty distance between current and previous is 0.0168421 (up to six significant digits), above the threshold 0.003. The feature value with maximum difference is: Taiwan  \n",
              "'cnt_level_end_quickplay'                                         The approximate Jensen-Shannon divergence between current and previous is 0.343587 (up to six significant digits), above the threshold 0.3.  \n",
              "'cnt_spend_virtual_currency'                                      The approximate Jensen-Shannon divergence between current and previous is 0.332597 (up to six significant digits), above the threshold 0.3.  \n",
              "'cnt_level_start_quickplay'                                       The approximate Jensen-Shannon divergence between current and previous is 0.363518 (up to six significant digits), above the threshold 0.3.  \n",
              "'cnt_user_engagement'                                          The approximate Jensen-Shannon divergence between current and previous is 0.0929705 (up to six significant digits), above the threshold 0.004.  \n",
              "'cnt_level_reset_quickplay'                                       The approximate Jensen-Shannon divergence between current and previous is 0.498636 (up to six significant digits), above the threshold 0.3.  \n",
              "'cnt_level_complete_quickplay'                                     The approximate Jensen-Shannon divergence between current and previous is 0.48113 (up to six significant digits), above the threshold 0.3.  \n",
              "'cnt_challenge_a_friend'                                          The approximate Jensen-Shannon divergence between current and previous is 0.737841 (up to six significant digits), above the threshold 0.3.  \n",
              "'cnt_ad_reward'                                                   The approximate Jensen-Shannon divergence between current and previous is 0.672075 (up to six significant digits), above the threshold 0.3.  "
            ],
            "text/html": [
              "\n",
              "  <div id=\"df-25f317c6-22d4-4398-a5cb-00fc7117e3ec\" class=\"colab-df-container\">\n",
              "    <div>\n",
              "<style scoped>\n",
              "    .dataframe tbody tr th:only-of-type {\n",
              "        vertical-align: middle;\n",
              "    }\n",
              "\n",
              "    .dataframe tbody tr th {\n",
              "        vertical-align: top;\n",
              "    }\n",
              "\n",
              "    .dataframe thead th {\n",
              "        text-align: right;\n",
              "    }\n",
              "</style>\n",
              "<table border=\"1\" class=\"dataframe\">\n",
              "  <thead>\n",
              "    <tr style=\"text-align: right;\">\n",
              "      <th></th>\n",
              "      <th>Anomaly short description</th>\n",
              "      <th>Anomaly long description</th>\n",
              "    </tr>\n",
              "    <tr>\n",
              "      <th>Feature name</th>\n",
              "      <th></th>\n",
              "      <th></th>\n",
              "    </tr>\n",
              "  </thead>\n",
              "  <tbody>\n",
              "    <tr>\n",
              "      <th>'cnt_completed_5_levels'</th>\n",
              "      <td>High approximate Jensen-Shannon divergence between current and previous</td>\n",
              "      <td>The approximate Jensen-Shannon divergence between current and previous is 0.549339 (up to six significant digits), above the threshold 0.3.</td>\n",
              "    </tr>\n",
              "    <tr>\n",
              "      <th>'cnt_use_extra_steps'</th>\n",
              "      <td>High approximate Jensen-Shannon divergence between current and previous</td>\n",
              "      <td>The approximate Jensen-Shannon divergence between current and previous is 0.390741 (up to six significant digits), above the threshold 0.3.</td>\n",
              "    </tr>\n",
              "    <tr>\n",
              "      <th>'cnt_post_score'</th>\n",
              "      <td>High approximate Jensen-Shannon divergence between current and previous</td>\n",
              "      <td>The approximate Jensen-Shannon divergence between current and previous is 0.352555 (up to six significant digits), above the threshold 0.3.</td>\n",
              "    </tr>\n",
              "    <tr>\n",
              "      <th>'country'</th>\n",
              "      <td>High Linfty distance between current and previous</td>\n",
              "      <td>The Linfty distance between current and previous is 0.0168421 (up to six significant digits), above the threshold 0.003. The feature value with maximum difference is: Taiwan</td>\n",
              "    </tr>\n",
              "    <tr>\n",
              "      <th>'cnt_level_end_quickplay'</th>\n",
              "      <td>High approximate Jensen-Shannon divergence between current and previous</td>\n",
              "      <td>The approximate Jensen-Shannon divergence between current and previous is 0.343587 (up to six significant digits), above the threshold 0.3.</td>\n",
              "    </tr>\n",
              "    <tr>\n",
              "      <th>'cnt_spend_virtual_currency'</th>\n",
              "      <td>High approximate Jensen-Shannon divergence between current and previous</td>\n",
              "      <td>The approximate Jensen-Shannon divergence between current and previous is 0.332597 (up to six significant digits), above the threshold 0.3.</td>\n",
              "    </tr>\n",
              "    <tr>\n",
              "      <th>'cnt_level_start_quickplay'</th>\n",
              "      <td>High approximate Jensen-Shannon divergence between current and previous</td>\n",
              "      <td>The approximate Jensen-Shannon divergence between current and previous is 0.363518 (up to six significant digits), above the threshold 0.3.</td>\n",
              "    </tr>\n",
              "    <tr>\n",
              "      <th>'cnt_user_engagement'</th>\n",
              "      <td>High approximate Jensen-Shannon divergence between current and previous</td>\n",
              "      <td>The approximate Jensen-Shannon divergence between current and previous is 0.0929705 (up to six significant digits), above the threshold 0.004.</td>\n",
              "    </tr>\n",
              "    <tr>\n",
              "      <th>'cnt_level_reset_quickplay'</th>\n",
              "      <td>High approximate Jensen-Shannon divergence between current and previous</td>\n",
              "      <td>The approximate Jensen-Shannon divergence between current and previous is 0.498636 (up to six significant digits), above the threshold 0.3.</td>\n",
              "    </tr>\n",
              "    <tr>\n",
              "      <th>'cnt_level_complete_quickplay'</th>\n",
              "      <td>High approximate Jensen-Shannon divergence between current and previous</td>\n",
              "      <td>The approximate Jensen-Shannon divergence between current and previous is 0.48113 (up to six significant digits), above the threshold 0.3.</td>\n",
              "    </tr>\n",
              "    <tr>\n",
              "      <th>'cnt_challenge_a_friend'</th>\n",
              "      <td>High approximate Jensen-Shannon divergence between current and previous</td>\n",
              "      <td>The approximate Jensen-Shannon divergence between current and previous is 0.737841 (up to six significant digits), above the threshold 0.3.</td>\n",
              "    </tr>\n",
              "    <tr>\n",
              "      <th>'cnt_ad_reward'</th>\n",
              "      <td>High approximate Jensen-Shannon divergence between current and previous</td>\n",
              "      <td>The approximate Jensen-Shannon divergence between current and previous is 0.672075 (up to six significant digits), above the threshold 0.3.</td>\n",
              "    </tr>\n",
              "  </tbody>\n",
              "</table>\n",
              "</div>\n",
              "    <div class=\"colab-df-buttons\">\n",
              "\n",
              "  <div class=\"colab-df-container\">\n",
              "    <button class=\"colab-df-convert\" onclick=\"convertToInteractive('df-25f317c6-22d4-4398-a5cb-00fc7117e3ec')\"\n",
              "            title=\"Convert this dataframe to an interactive table.\"\n",
              "            style=\"display:none;\">\n",
              "\n",
              "  <svg xmlns=\"http://www.w3.org/2000/svg\" height=\"24px\" viewBox=\"0 -960 960 960\">\n",
              "    <path d=\"M120-120v-720h720v720H120Zm60-500h600v-160H180v160Zm220 220h160v-160H400v160Zm0 220h160v-160H400v160ZM180-400h160v-160H180v160Zm440 0h160v-160H620v160ZM180-180h160v-160H180v160Zm440 0h160v-160H620v160Z\"/>\n",
              "  </svg>\n",
              "    </button>\n",
              "\n",
              "  <style>\n",
              "    .colab-df-container {\n",
              "      display:flex;\n",
              "      gap: 12px;\n",
              "    }\n",
              "\n",
              "    .colab-df-convert {\n",
              "      background-color: #E8F0FE;\n",
              "      border: none;\n",
              "      border-radius: 50%;\n",
              "      cursor: pointer;\n",
              "      display: none;\n",
              "      fill: #1967D2;\n",
              "      height: 32px;\n",
              "      padding: 0 0 0 0;\n",
              "      width: 32px;\n",
              "    }\n",
              "\n",
              "    .colab-df-convert:hover {\n",
              "      background-color: #E2EBFA;\n",
              "      box-shadow: 0px 1px 2px rgba(60, 64, 67, 0.3), 0px 1px 3px 1px rgba(60, 64, 67, 0.15);\n",
              "      fill: #174EA6;\n",
              "    }\n",
              "\n",
              "    .colab-df-buttons div {\n",
              "      margin-bottom: 4px;\n",
              "    }\n",
              "\n",
              "    [theme=dark] .colab-df-convert {\n",
              "      background-color: #3B4455;\n",
              "      fill: #D2E3FC;\n",
              "    }\n",
              "\n",
              "    [theme=dark] .colab-df-convert:hover {\n",
              "      background-color: #434B5C;\n",
              "      box-shadow: 0px 1px 3px 1px rgba(0, 0, 0, 0.15);\n",
              "      filter: drop-shadow(0px 1px 2px rgba(0, 0, 0, 0.3));\n",
              "      fill: #FFFFFF;\n",
              "    }\n",
              "  </style>\n",
              "\n",
              "    <script>\n",
              "      const buttonEl =\n",
              "        document.querySelector('#df-25f317c6-22d4-4398-a5cb-00fc7117e3ec button.colab-df-convert');\n",
              "      buttonEl.style.display =\n",
              "        google.colab.kernel.accessAllowed ? 'block' : 'none';\n",
              "\n",
              "      async function convertToInteractive(key) {\n",
              "        const element = document.querySelector('#df-25f317c6-22d4-4398-a5cb-00fc7117e3ec');\n",
              "        const dataTable =\n",
              "          await google.colab.kernel.invokeFunction('convertToInteractive',\n",
              "                                                    [key], {});\n",
              "        if (!dataTable) return;\n",
              "\n",
              "        const docLinkHtml = 'Like what you see? Visit the ' +\n",
              "          '<a target=\"_blank\" href=https://colab.research.google.com/notebooks/data_table.ipynb>data table notebook</a>'\n",
              "          + ' to learn more about interactive tables.';\n",
              "        element.innerHTML = '';\n",
              "        dataTable['output_type'] = 'display_data';\n",
              "        await google.colab.output.renderOutput(dataTable, element);\n",
              "        const docLink = document.createElement('div');\n",
              "        docLink.innerHTML = docLinkHtml;\n",
              "        element.appendChild(docLink);\n",
              "      }\n",
              "    </script>\n",
              "  </div>\n",
              "\n",
              "\n",
              "<div id=\"df-94a8801e-0453-4312-90cd-827d64abde30\">\n",
              "  <button class=\"colab-df-quickchart\" onclick=\"quickchart('df-94a8801e-0453-4312-90cd-827d64abde30')\"\n",
              "            title=\"Suggest charts\"\n",
              "            style=\"display:none;\">\n",
              "\n",
              "<svg xmlns=\"http://www.w3.org/2000/svg\" height=\"24px\"viewBox=\"0 0 24 24\"\n",
              "     width=\"24px\">\n",
              "    <g>\n",
              "        <path d=\"M19 3H5c-1.1 0-2 .9-2 2v14c0 1.1.9 2 2 2h14c1.1 0 2-.9 2-2V5c0-1.1-.9-2-2-2zM9 17H7v-7h2v7zm4 0h-2V7h2v10zm4 0h-2v-4h2v4z\"/>\n",
              "    </g>\n",
              "</svg>\n",
              "  </button>\n",
              "\n",
              "<style>\n",
              "  .colab-df-quickchart {\n",
              "      --bg-color: #E8F0FE;\n",
              "      --fill-color: #1967D2;\n",
              "      --hover-bg-color: #E2EBFA;\n",
              "      --hover-fill-color: #174EA6;\n",
              "      --disabled-fill-color: #AAA;\n",
              "      --disabled-bg-color: #DDD;\n",
              "  }\n",
              "\n",
              "  [theme=dark] .colab-df-quickchart {\n",
              "      --bg-color: #3B4455;\n",
              "      --fill-color: #D2E3FC;\n",
              "      --hover-bg-color: #434B5C;\n",
              "      --hover-fill-color: #FFFFFF;\n",
              "      --disabled-bg-color: #3B4455;\n",
              "      --disabled-fill-color: #666;\n",
              "  }\n",
              "\n",
              "  .colab-df-quickchart {\n",
              "    background-color: var(--bg-color);\n",
              "    border: none;\n",
              "    border-radius: 50%;\n",
              "    cursor: pointer;\n",
              "    display: none;\n",
              "    fill: var(--fill-color);\n",
              "    height: 32px;\n",
              "    padding: 0;\n",
              "    width: 32px;\n",
              "  }\n",
              "\n",
              "  .colab-df-quickchart:hover {\n",
              "    background-color: var(--hover-bg-color);\n",
              "    box-shadow: 0 1px 2px rgba(60, 64, 67, 0.3), 0 1px 3px 1px rgba(60, 64, 67, 0.15);\n",
              "    fill: var(--button-hover-fill-color);\n",
              "  }\n",
              "\n",
              "  .colab-df-quickchart-complete:disabled,\n",
              "  .colab-df-quickchart-complete:disabled:hover {\n",
              "    background-color: var(--disabled-bg-color);\n",
              "    fill: var(--disabled-fill-color);\n",
              "    box-shadow: none;\n",
              "  }\n",
              "\n",
              "  .colab-df-spinner {\n",
              "    border: 2px solid var(--fill-color);\n",
              "    border-color: transparent;\n",
              "    border-bottom-color: var(--fill-color);\n",
              "    animation:\n",
              "      spin 1s steps(1) infinite;\n",
              "  }\n",
              "\n",
              "  @keyframes spin {\n",
              "    0% {\n",
              "      border-color: transparent;\n",
              "      border-bottom-color: var(--fill-color);\n",
              "      border-left-color: var(--fill-color);\n",
              "    }\n",
              "    20% {\n",
              "      border-color: transparent;\n",
              "      border-left-color: var(--fill-color);\n",
              "      border-top-color: var(--fill-color);\n",
              "    }\n",
              "    30% {\n",
              "      border-color: transparent;\n",
              "      border-left-color: var(--fill-color);\n",
              "      border-top-color: var(--fill-color);\n",
              "      border-right-color: var(--fill-color);\n",
              "    }\n",
              "    40% {\n",
              "      border-color: transparent;\n",
              "      border-right-color: var(--fill-color);\n",
              "      border-top-color: var(--fill-color);\n",
              "    }\n",
              "    60% {\n",
              "      border-color: transparent;\n",
              "      border-right-color: var(--fill-color);\n",
              "    }\n",
              "    80% {\n",
              "      border-color: transparent;\n",
              "      border-right-color: var(--fill-color);\n",
              "      border-bottom-color: var(--fill-color);\n",
              "    }\n",
              "    90% {\n",
              "      border-color: transparent;\n",
              "      border-bottom-color: var(--fill-color);\n",
              "    }\n",
              "  }\n",
              "</style>\n",
              "\n",
              "  <script>\n",
              "    async function quickchart(key) {\n",
              "      const quickchartButtonEl =\n",
              "        document.querySelector('#' + key + ' button');\n",
              "      quickchartButtonEl.disabled = true;  // To prevent multiple clicks.\n",
              "      quickchartButtonEl.classList.add('colab-df-spinner');\n",
              "      try {\n",
              "        const charts = await google.colab.kernel.invokeFunction(\n",
              "            'suggestCharts', [key], {});\n",
              "      } catch (error) {\n",
              "        console.error('Error during call to suggestCharts:', error);\n",
              "      }\n",
              "      quickchartButtonEl.classList.remove('colab-df-spinner');\n",
              "      quickchartButtonEl.classList.add('colab-df-quickchart-complete');\n",
              "    }\n",
              "    (() => {\n",
              "      let quickchartButtonEl =\n",
              "        document.querySelector('#df-94a8801e-0453-4312-90cd-827d64abde30 button');\n",
              "      quickchartButtonEl.style.display =\n",
              "        google.colab.kernel.accessAllowed ? 'block' : 'none';\n",
              "    })();\n",
              "  </script>\n",
              "</div>\n",
              "\n",
              "    </div>\n",
              "  </div>\n"
            ],
            "application/vnd.google.colaboratory.intrinsic+json": {
              "type": "dataframe",
              "summary": "{\n  \"name\": \"    print(e)\",\n  \"rows\": 12,\n  \"fields\": [\n    {\n      \"column\": \"Feature name\",\n      \"properties\": {\n        \"dtype\": \"string\",\n        \"num_unique_values\": 12,\n        \"samples\": [\n          \"'cnt_challenge_a_friend'\",\n          \"'cnt_level_complete_quickplay'\",\n          \"'cnt_completed_5_levels'\"\n        ],\n        \"semantic_type\": \"\",\n        \"description\": \"\"\n      }\n    },\n    {\n      \"column\": \"Anomaly short description\",\n      \"properties\": {\n        \"dtype\": \"category\",\n        \"num_unique_values\": 2,\n        \"samples\": [\n          \"High Linfty distance between current and previous\",\n          \"High approximate Jensen-Shannon divergence between current and previous\"\n        ],\n        \"semantic_type\": \"\",\n        \"description\": \"\"\n      }\n    },\n    {\n      \"column\": \"Anomaly long description\",\n      \"properties\": {\n        \"dtype\": \"string\",\n        \"num_unique_values\": 12,\n        \"samples\": [\n          \"The approximate Jensen-Shannon divergence between current and previous is 0.737841 (up to six significant digits), above the threshold 0.3.\",\n          \"The approximate Jensen-Shannon divergence between current and previous is 0.48113 (up to six significant digits), above the threshold 0.3.\"\n        ],\n        \"semantic_type\": \"\",\n        \"description\": \"\"\n      }\n    }\n  ]\n}"
            }
          },
          "metadata": {}
        }
      ],
      "source": [
        "try:\n",
        "    my_model_monitor.show_feature_drift_stats(model_monitoring_job_1.name)\n",
        "except Exception as e:\n",
        "    print(e)"
      ]
    },
    {
      "cell_type": "code",
      "execution_count": null,
      "metadata": {
        "id": "qtjLw8rVcC13",
        "outputId": "4293e11d-bf1f-491b-bf83-275fc203953f",
        "colab": {
          "base_uri": "https://localhost:8080/",
          "height": 1000
        }
      },
      "outputs": [
        {
          "output_type": "display_data",
          "data": {
            "text/plain": [
              "<IPython.core.display.HTML object>"
            ],
            "text/html": [
              "<iframe id='facets-iframe' width=\"100%\" height=\"500px\"></iframe>\n",
              "        <script>\n",
              "        facets_iframe = document.getElementById('facets-iframe');\n",
              "        facets_html = '<script src=\"https://cdnjs.cloudflare.com/ajax/libs/webcomponentsjs/1.3.3/webcomponents-lite.js\"><\\/script><link rel=\"import\" href=\"https://raw.githubusercontent.com/PAIR-code/facets/master/facets-dist/facets-jupyter.html\"><facets-overview proto-input=\"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\"></facets-overview>';\n",
              "        facets_iframe.srcdoc = facets_html;\n",
              "         facets_iframe.id = \"\";\n",
              "         setTimeout(() => {\n",
              "           facets_iframe.setAttribute('height', facets_iframe.contentWindow.document.body.offsetHeight + 'px')\n",
              "         }, 1500)\n",
              "         </script>"
            ]
          },
          "metadata": {}
        },
        {
          "output_type": "display_data",
          "data": {
            "text/plain": [
              "                                                                              Anomaly short description  \\\n",
              "Feature name                                                                                              \n",
              "'cnt_ad_reward'                 High approximate Jensen-Shannon divergence between current and previous   \n",
              "'cnt_completed_5_levels'        High approximate Jensen-Shannon divergence between current and previous   \n",
              "'operating_system'                                    High Linfty distance between current and previous   \n",
              "'cnt_level_reset_quickplay'     High approximate Jensen-Shannon divergence between current and previous   \n",
              "'cnt_post_score'                High approximate Jensen-Shannon divergence between current and previous   \n",
              "'cnt_challenge_a_friend'        High approximate Jensen-Shannon divergence between current and previous   \n",
              "'julianday'                     High approximate Jensen-Shannon divergence between current and previous   \n",
              "'country'                                             High Linfty distance between current and previous   \n",
              "'month'                                               High Linfty distance between current and previous   \n",
              "'cnt_user_engagement'           High approximate Jensen-Shannon divergence between current and previous   \n",
              "'cnt_level_end_quickplay'       High approximate Jensen-Shannon divergence between current and previous   \n",
              "'cnt_level_start_quickplay'     High approximate Jensen-Shannon divergence between current and previous   \n",
              "'cnt_level_complete_quickplay'  High approximate Jensen-Shannon divergence between current and previous   \n",
              "\n",
              "                                                                                                                                                                                    Anomaly long description  \n",
              "Feature name                                                                                                                                                                                                  \n",
              "'cnt_ad_reward'                                                  The approximate Jensen-Shannon divergence between current and previous is 0.521752 (up to six significant digits), above the threshold 0.3.  \n",
              "'cnt_completed_5_levels'                                         The approximate Jensen-Shannon divergence between current and previous is 0.320833 (up to six significant digits), above the threshold 0.3.  \n",
              "'operating_system'                  The Linfty distance between current and previous is 0.522 (up to six significant digits), above the threshold 0.2. The feature value with maximum difference is: ANDROID  \n",
              "'cnt_level_reset_quickplay'                                      The approximate Jensen-Shannon divergence between current and previous is 0.499365 (up to six significant digits), above the threshold 0.3.  \n",
              "'cnt_post_score'                                                 The approximate Jensen-Shannon divergence between current and previous is 0.358218 (up to six significant digits), above the threshold 0.3.  \n",
              "'cnt_challenge_a_friend'                                         The approximate Jensen-Shannon divergence between current and previous is 0.322068 (up to six significant digits), above the threshold 0.3.  \n",
              "'julianday'                                                      The approximate Jensen-Shannon divergence between current and previous is 0.346059 (up to six significant digits), above the threshold 0.3.  \n",
              "'country'                       The Linfty distance between current and previous is 0.0455367 (up to six significant digits), above the threshold 0.003. The feature value with maximum difference is: India  \n",
              "'month'                                The Linfty distance between current and previous is 0.239327 (up to six significant digits), above the threshold 0.2. The feature value with maximum difference is: 6  \n",
              "'cnt_user_engagement'                                          The approximate Jensen-Shannon divergence between current and previous is 0.102205 (up to six significant digits), above the threshold 0.004.  \n",
              "'cnt_level_end_quickplay'                                        The approximate Jensen-Shannon divergence between current and previous is 0.354152 (up to six significant digits), above the threshold 0.3.  \n",
              "'cnt_level_start_quickplay'                                      The approximate Jensen-Shannon divergence between current and previous is 0.369054 (up to six significant digits), above the threshold 0.3.  \n",
              "'cnt_level_complete_quickplay'                                   The approximate Jensen-Shannon divergence between current and previous is 0.484367 (up to six significant digits), above the threshold 0.3.  "
            ],
            "text/html": [
              "\n",
              "  <div id=\"df-590a8c65-1091-4eb8-87bc-2c604a667bef\" class=\"colab-df-container\">\n",
              "    <div>\n",
              "<style scoped>\n",
              "    .dataframe tbody tr th:only-of-type {\n",
              "        vertical-align: middle;\n",
              "    }\n",
              "\n",
              "    .dataframe tbody tr th {\n",
              "        vertical-align: top;\n",
              "    }\n",
              "\n",
              "    .dataframe thead th {\n",
              "        text-align: right;\n",
              "    }\n",
              "</style>\n",
              "<table border=\"1\" class=\"dataframe\">\n",
              "  <thead>\n",
              "    <tr style=\"text-align: right;\">\n",
              "      <th></th>\n",
              "      <th>Anomaly short description</th>\n",
              "      <th>Anomaly long description</th>\n",
              "    </tr>\n",
              "    <tr>\n",
              "      <th>Feature name</th>\n",
              "      <th></th>\n",
              "      <th></th>\n",
              "    </tr>\n",
              "  </thead>\n",
              "  <tbody>\n",
              "    <tr>\n",
              "      <th>'cnt_ad_reward'</th>\n",
              "      <td>High approximate Jensen-Shannon divergence between current and previous</td>\n",
              "      <td>The approximate Jensen-Shannon divergence between current and previous is 0.521752 (up to six significant digits), above the threshold 0.3.</td>\n",
              "    </tr>\n",
              "    <tr>\n",
              "      <th>'cnt_completed_5_levels'</th>\n",
              "      <td>High approximate Jensen-Shannon divergence between current and previous</td>\n",
              "      <td>The approximate Jensen-Shannon divergence between current and previous is 0.320833 (up to six significant digits), above the threshold 0.3.</td>\n",
              "    </tr>\n",
              "    <tr>\n",
              "      <th>'operating_system'</th>\n",
              "      <td>High Linfty distance between current and previous</td>\n",
              "      <td>The Linfty distance between current and previous is 0.522 (up to six significant digits), above the threshold 0.2. The feature value with maximum difference is: ANDROID</td>\n",
              "    </tr>\n",
              "    <tr>\n",
              "      <th>'cnt_level_reset_quickplay'</th>\n",
              "      <td>High approximate Jensen-Shannon divergence between current and previous</td>\n",
              "      <td>The approximate Jensen-Shannon divergence between current and previous is 0.499365 (up to six significant digits), above the threshold 0.3.</td>\n",
              "    </tr>\n",
              "    <tr>\n",
              "      <th>'cnt_post_score'</th>\n",
              "      <td>High approximate Jensen-Shannon divergence between current and previous</td>\n",
              "      <td>The approximate Jensen-Shannon divergence between current and previous is 0.358218 (up to six significant digits), above the threshold 0.3.</td>\n",
              "    </tr>\n",
              "    <tr>\n",
              "      <th>'cnt_challenge_a_friend'</th>\n",
              "      <td>High approximate Jensen-Shannon divergence between current and previous</td>\n",
              "      <td>The approximate Jensen-Shannon divergence between current and previous is 0.322068 (up to six significant digits), above the threshold 0.3.</td>\n",
              "    </tr>\n",
              "    <tr>\n",
              "      <th>'julianday'</th>\n",
              "      <td>High approximate Jensen-Shannon divergence between current and previous</td>\n",
              "      <td>The approximate Jensen-Shannon divergence between current and previous is 0.346059 (up to six significant digits), above the threshold 0.3.</td>\n",
              "    </tr>\n",
              "    <tr>\n",
              "      <th>'country'</th>\n",
              "      <td>High Linfty distance between current and previous</td>\n",
              "      <td>The Linfty distance between current and previous is 0.0455367 (up to six significant digits), above the threshold 0.003. The feature value with maximum difference is: India</td>\n",
              "    </tr>\n",
              "    <tr>\n",
              "      <th>'month'</th>\n",
              "      <td>High Linfty distance between current and previous</td>\n",
              "      <td>The Linfty distance between current and previous is 0.239327 (up to six significant digits), above the threshold 0.2. The feature value with maximum difference is: 6</td>\n",
              "    </tr>\n",
              "    <tr>\n",
              "      <th>'cnt_user_engagement'</th>\n",
              "      <td>High approximate Jensen-Shannon divergence between current and previous</td>\n",
              "      <td>The approximate Jensen-Shannon divergence between current and previous is 0.102205 (up to six significant digits), above the threshold 0.004.</td>\n",
              "    </tr>\n",
              "    <tr>\n",
              "      <th>'cnt_level_end_quickplay'</th>\n",
              "      <td>High approximate Jensen-Shannon divergence between current and previous</td>\n",
              "      <td>The approximate Jensen-Shannon divergence between current and previous is 0.354152 (up to six significant digits), above the threshold 0.3.</td>\n",
              "    </tr>\n",
              "    <tr>\n",
              "      <th>'cnt_level_start_quickplay'</th>\n",
              "      <td>High approximate Jensen-Shannon divergence between current and previous</td>\n",
              "      <td>The approximate Jensen-Shannon divergence between current and previous is 0.369054 (up to six significant digits), above the threshold 0.3.</td>\n",
              "    </tr>\n",
              "    <tr>\n",
              "      <th>'cnt_level_complete_quickplay'</th>\n",
              "      <td>High approximate Jensen-Shannon divergence between current and previous</td>\n",
              "      <td>The approximate Jensen-Shannon divergence between current and previous is 0.484367 (up to six significant digits), above the threshold 0.3.</td>\n",
              "    </tr>\n",
              "  </tbody>\n",
              "</table>\n",
              "</div>\n",
              "    <div class=\"colab-df-buttons\">\n",
              "\n",
              "  <div class=\"colab-df-container\">\n",
              "    <button class=\"colab-df-convert\" onclick=\"convertToInteractive('df-590a8c65-1091-4eb8-87bc-2c604a667bef')\"\n",
              "            title=\"Convert this dataframe to an interactive table.\"\n",
              "            style=\"display:none;\">\n",
              "\n",
              "  <svg xmlns=\"http://www.w3.org/2000/svg\" height=\"24px\" viewBox=\"0 -960 960 960\">\n",
              "    <path d=\"M120-120v-720h720v720H120Zm60-500h600v-160H180v160Zm220 220h160v-160H400v160Zm0 220h160v-160H400v160ZM180-400h160v-160H180v160Zm440 0h160v-160H620v160ZM180-180h160v-160H180v160Zm440 0h160v-160H620v160Z\"/>\n",
              "  </svg>\n",
              "    </button>\n",
              "\n",
              "  <style>\n",
              "    .colab-df-container {\n",
              "      display:flex;\n",
              "      gap: 12px;\n",
              "    }\n",
              "\n",
              "    .colab-df-convert {\n",
              "      background-color: #E8F0FE;\n",
              "      border: none;\n",
              "      border-radius: 50%;\n",
              "      cursor: pointer;\n",
              "      display: none;\n",
              "      fill: #1967D2;\n",
              "      height: 32px;\n",
              "      padding: 0 0 0 0;\n",
              "      width: 32px;\n",
              "    }\n",
              "\n",
              "    .colab-df-convert:hover {\n",
              "      background-color: #E2EBFA;\n",
              "      box-shadow: 0px 1px 2px rgba(60, 64, 67, 0.3), 0px 1px 3px 1px rgba(60, 64, 67, 0.15);\n",
              "      fill: #174EA6;\n",
              "    }\n",
              "\n",
              "    .colab-df-buttons div {\n",
              "      margin-bottom: 4px;\n",
              "    }\n",
              "\n",
              "    [theme=dark] .colab-df-convert {\n",
              "      background-color: #3B4455;\n",
              "      fill: #D2E3FC;\n",
              "    }\n",
              "\n",
              "    [theme=dark] .colab-df-convert:hover {\n",
              "      background-color: #434B5C;\n",
              "      box-shadow: 0px 1px 3px 1px rgba(0, 0, 0, 0.15);\n",
              "      filter: drop-shadow(0px 1px 2px rgba(0, 0, 0, 0.3));\n",
              "      fill: #FFFFFF;\n",
              "    }\n",
              "  </style>\n",
              "\n",
              "    <script>\n",
              "      const buttonEl =\n",
              "        document.querySelector('#df-590a8c65-1091-4eb8-87bc-2c604a667bef button.colab-df-convert');\n",
              "      buttonEl.style.display =\n",
              "        google.colab.kernel.accessAllowed ? 'block' : 'none';\n",
              "\n",
              "      async function convertToInteractive(key) {\n",
              "        const element = document.querySelector('#df-590a8c65-1091-4eb8-87bc-2c604a667bef');\n",
              "        const dataTable =\n",
              "          await google.colab.kernel.invokeFunction('convertToInteractive',\n",
              "                                                    [key], {});\n",
              "        if (!dataTable) return;\n",
              "\n",
              "        const docLinkHtml = 'Like what you see? Visit the ' +\n",
              "          '<a target=\"_blank\" href=https://colab.research.google.com/notebooks/data_table.ipynb>data table notebook</a>'\n",
              "          + ' to learn more about interactive tables.';\n",
              "        element.innerHTML = '';\n",
              "        dataTable['output_type'] = 'display_data';\n",
              "        await google.colab.output.renderOutput(dataTable, element);\n",
              "        const docLink = document.createElement('div');\n",
              "        docLink.innerHTML = docLinkHtml;\n",
              "        element.appendChild(docLink);\n",
              "      }\n",
              "    </script>\n",
              "  </div>\n",
              "\n",
              "\n",
              "<div id=\"df-1cad4262-8572-4cf6-a729-341052383d84\">\n",
              "  <button class=\"colab-df-quickchart\" onclick=\"quickchart('df-1cad4262-8572-4cf6-a729-341052383d84')\"\n",
              "            title=\"Suggest charts\"\n",
              "            style=\"display:none;\">\n",
              "\n",
              "<svg xmlns=\"http://www.w3.org/2000/svg\" height=\"24px\"viewBox=\"0 0 24 24\"\n",
              "     width=\"24px\">\n",
              "    <g>\n",
              "        <path d=\"M19 3H5c-1.1 0-2 .9-2 2v14c0 1.1.9 2 2 2h14c1.1 0 2-.9 2-2V5c0-1.1-.9-2-2-2zM9 17H7v-7h2v7zm4 0h-2V7h2v10zm4 0h-2v-4h2v4z\"/>\n",
              "    </g>\n",
              "</svg>\n",
              "  </button>\n",
              "\n",
              "<style>\n",
              "  .colab-df-quickchart {\n",
              "      --bg-color: #E8F0FE;\n",
              "      --fill-color: #1967D2;\n",
              "      --hover-bg-color: #E2EBFA;\n",
              "      --hover-fill-color: #174EA6;\n",
              "      --disabled-fill-color: #AAA;\n",
              "      --disabled-bg-color: #DDD;\n",
              "  }\n",
              "\n",
              "  [theme=dark] .colab-df-quickchart {\n",
              "      --bg-color: #3B4455;\n",
              "      --fill-color: #D2E3FC;\n",
              "      --hover-bg-color: #434B5C;\n",
              "      --hover-fill-color: #FFFFFF;\n",
              "      --disabled-bg-color: #3B4455;\n",
              "      --disabled-fill-color: #666;\n",
              "  }\n",
              "\n",
              "  .colab-df-quickchart {\n",
              "    background-color: var(--bg-color);\n",
              "    border: none;\n",
              "    border-radius: 50%;\n",
              "    cursor: pointer;\n",
              "    display: none;\n",
              "    fill: var(--fill-color);\n",
              "    height: 32px;\n",
              "    padding: 0;\n",
              "    width: 32px;\n",
              "  }\n",
              "\n",
              "  .colab-df-quickchart:hover {\n",
              "    background-color: var(--hover-bg-color);\n",
              "    box-shadow: 0 1px 2px rgba(60, 64, 67, 0.3), 0 1px 3px 1px rgba(60, 64, 67, 0.15);\n",
              "    fill: var(--button-hover-fill-color);\n",
              "  }\n",
              "\n",
              "  .colab-df-quickchart-complete:disabled,\n",
              "  .colab-df-quickchart-complete:disabled:hover {\n",
              "    background-color: var(--disabled-bg-color);\n",
              "    fill: var(--disabled-fill-color);\n",
              "    box-shadow: none;\n",
              "  }\n",
              "\n",
              "  .colab-df-spinner {\n",
              "    border: 2px solid var(--fill-color);\n",
              "    border-color: transparent;\n",
              "    border-bottom-color: var(--fill-color);\n",
              "    animation:\n",
              "      spin 1s steps(1) infinite;\n",
              "  }\n",
              "\n",
              "  @keyframes spin {\n",
              "    0% {\n",
              "      border-color: transparent;\n",
              "      border-bottom-color: var(--fill-color);\n",
              "      border-left-color: var(--fill-color);\n",
              "    }\n",
              "    20% {\n",
              "      border-color: transparent;\n",
              "      border-left-color: var(--fill-color);\n",
              "      border-top-color: var(--fill-color);\n",
              "    }\n",
              "    30% {\n",
              "      border-color: transparent;\n",
              "      border-left-color: var(--fill-color);\n",
              "      border-top-color: var(--fill-color);\n",
              "      border-right-color: var(--fill-color);\n",
              "    }\n",
              "    40% {\n",
              "      border-color: transparent;\n",
              "      border-right-color: var(--fill-color);\n",
              "      border-top-color: var(--fill-color);\n",
              "    }\n",
              "    60% {\n",
              "      border-color: transparent;\n",
              "      border-right-color: var(--fill-color);\n",
              "    }\n",
              "    80% {\n",
              "      border-color: transparent;\n",
              "      border-right-color: var(--fill-color);\n",
              "      border-bottom-color: var(--fill-color);\n",
              "    }\n",
              "    90% {\n",
              "      border-color: transparent;\n",
              "      border-bottom-color: var(--fill-color);\n",
              "    }\n",
              "  }\n",
              "</style>\n",
              "\n",
              "  <script>\n",
              "    async function quickchart(key) {\n",
              "      const quickchartButtonEl =\n",
              "        document.querySelector('#' + key + ' button');\n",
              "      quickchartButtonEl.disabled = true;  // To prevent multiple clicks.\n",
              "      quickchartButtonEl.classList.add('colab-df-spinner');\n",
              "      try {\n",
              "        const charts = await google.colab.kernel.invokeFunction(\n",
              "            'suggestCharts', [key], {});\n",
              "      } catch (error) {\n",
              "        console.error('Error during call to suggestCharts:', error);\n",
              "      }\n",
              "      quickchartButtonEl.classList.remove('colab-df-spinner');\n",
              "      quickchartButtonEl.classList.add('colab-df-quickchart-complete');\n",
              "    }\n",
              "    (() => {\n",
              "      let quickchartButtonEl =\n",
              "        document.querySelector('#df-1cad4262-8572-4cf6-a729-341052383d84 button');\n",
              "      quickchartButtonEl.style.display =\n",
              "        google.colab.kernel.accessAllowed ? 'block' : 'none';\n",
              "    })();\n",
              "  </script>\n",
              "</div>\n",
              "\n",
              "    </div>\n",
              "  </div>\n"
            ],
            "application/vnd.google.colaboratory.intrinsic+json": {
              "type": "dataframe",
              "summary": "{\n  \"name\": \"    print(e)\",\n  \"rows\": 13,\n  \"fields\": [\n    {\n      \"column\": \"Feature name\",\n      \"properties\": {\n        \"dtype\": \"string\",\n        \"num_unique_values\": 13,\n        \"samples\": [\n          \"'cnt_level_start_quickplay'\",\n          \"'cnt_user_engagement'\",\n          \"'cnt_ad_reward'\"\n        ],\n        \"semantic_type\": \"\",\n        \"description\": \"\"\n      }\n    },\n    {\n      \"column\": \"Anomaly short description\",\n      \"properties\": {\n        \"dtype\": \"category\",\n        \"num_unique_values\": 2,\n        \"samples\": [\n          \"High Linfty distance between current and previous\",\n          \"High approximate Jensen-Shannon divergence between current and previous\"\n        ],\n        \"semantic_type\": \"\",\n        \"description\": \"\"\n      }\n    },\n    {\n      \"column\": \"Anomaly long description\",\n      \"properties\": {\n        \"dtype\": \"string\",\n        \"num_unique_values\": 13,\n        \"samples\": [\n          \"The approximate Jensen-Shannon divergence between current and previous is 0.369054 (up to six significant digits), above the threshold 0.3.\",\n          \"The approximate Jensen-Shannon divergence between current and previous is 0.102205 (up to six significant digits), above the threshold 0.004.\"\n        ],\n        \"semantic_type\": \"\",\n        \"description\": \"\"\n      }\n    }\n  ]\n}"
            }
          },
          "metadata": {}
        }
      ],
      "source": [
        "try:\n",
        "    my_model_monitor.show_feature_drift_stats(model_monitoring_job_2.name)\n",
        "except Exception as e:\n",
        "    print(e)"
      ]
    },
    {
      "cell_type": "code",
      "execution_count": null,
      "metadata": {
        "id": "-mxYA55nz6tO",
        "outputId": "9299d65c-9f30-4fa4-a7cb-4c28f9a20ca0",
        "colab": {
          "base_uri": "https://localhost:8080/",
          "height": 367
        }
      },
      "outputs": [
        {
          "output_type": "display_data",
          "data": {
            "text/plain": [
              "<IPython.core.display.HTML object>"
            ],
            "text/html": [
              "<iframe id='facets-iframe' width=\"100%\" height=\"500px\"></iframe>\n",
              "        <script>\n",
              "        facets_iframe = document.getElementById('facets-iframe');\n",
              "        facets_html = '<script src=\"https://cdnjs.cloudflare.com/ajax/libs/webcomponentsjs/1.3.3/webcomponents-lite.js\"><\\/script><link rel=\"import\" href=\"https://raw.githubusercontent.com/PAIR-code/facets/master/facets-dist/facets-jupyter.html\"><facets-overview proto-input=\"Cq4DCg5CYXNlbGluZSBTdGF0cxDpBxqYAxACIv4CCrYCCOkHGAEgAS0AAIA/MqQCGhsJAAAAAAAA8D8RAAAAAAAA8D8hZmZmZmYGWUAaGwkAAAAAAADwPxEAAAAAAADwPyFmZmZmZgZZQBobCQAAAAAAAPA/EQAAAAAAAPA/IWZmZmZmBllAGhsJAAAAAAAA8D8RAAAAAAAA8D8hZmZmZmYGWUAaGwkAAAAAAADwPxEAAAAAAADwPyFmZmZmZgZZQBobCQAAAAAAAPA/EQAAAAAAAPA/IWZmZmZmBllAGhsJAAAAAAAA8D8RAAAAAAAA8D8hZmZmZmYGWUAaGwkAAAAAAADwPxEAAAAAAADwPyFmZmZmZgZZQBobCQAAAAAAAPA/EQAAAAAAAPA/IWZmZmZmBllAGhsJAAAAAAAA8D8RAAAAAAAA8D8hZmZmZmYGWUAgAUDpBxACGgwSATAZAAAAAAAAiEAaDBIBMRkAAAAAACBtQCUAAIA/KiAKDCIBMCkAAAAAAACIQAoQCAEQASIBMSkAAAAAACBtQEITChFwcmVkaWN0ZWRfY2h1cm5lZAqMAwoMVGFyZ2V0IFN0YXRzEPQDGvgCEAIi3gIKtgII9AMYASABLQAAgD8ypAIaGwkAAAAAAADwPxEAAAAAAADwPyEAAAAAAABJQBobCQAAAAAAAPA/EQAAAAAAAPA/IQAAAAAAAElAGhsJAAAAAAAA8D8RAAAAAAAA8D8hAAAAAAAASUAaGwkAAAAAAADwPxEAAAAAAADwPyEAAAAAAABJQBobCQAAAAAAAPA/EQAAAAAAAPA/IQAAAAAAAElAGhsJAAAAAAAA8D8RAAAAAAAA8D8hAAAAAAAASUAaGwkAAAAAAADwPxEAAAAAAADwPyEAAAAAAABJQBobCQAAAAAAAPA/EQAAAAAAAPA/IQAAAAAAAElAGhsJAAAAAAAA8D8RAAAAAAAA8D8hAAAAAAAASUAaGwkAAAAAAADwPxEAAAAAAADwPyEAAAAAAABJQCABQPQDEAEaDBIBMBkAAAAAAEB/QCUAAIA/Kg4KDCIBMCkAAAAAAEB/QEITChFwcmVkaWN0ZWRfY2h1cm5lZA==\"></facets-overview>';\n",
              "        facets_iframe.srcdoc = facets_html;\n",
              "         facets_iframe.id = \"\";\n",
              "         setTimeout(() => {\n",
              "           facets_iframe.setAttribute('height', facets_iframe.contentWindow.document.body.offsetHeight + 'px')\n",
              "         }, 1500)\n",
              "         </script>"
            ]
          },
          "metadata": {}
        },
        {
          "output_type": "display_data",
          "data": {
            "text/plain": [
              "                                             Anomaly short description  \\\n",
              "Feature name                                                             \n",
              "'predicted_churned'  High Linfty distance between current and previous   \n",
              "\n",
              "                                                                                                                                                                  Anomaly long description  \n",
              "Feature name                                                                                                                                                                                \n",
              "'predicted_churned'  The Linfty distance between current and previous is 0.232767 (up to six significant digits), above the threshold 0.1. The feature value with maximum difference is: 1  "
            ],
            "text/html": [
              "\n",
              "  <div id=\"df-c526506c-1f2a-4763-8696-a632180f3ef6\" class=\"colab-df-container\">\n",
              "    <div>\n",
              "<style scoped>\n",
              "    .dataframe tbody tr th:only-of-type {\n",
              "        vertical-align: middle;\n",
              "    }\n",
              "\n",
              "    .dataframe tbody tr th {\n",
              "        vertical-align: top;\n",
              "    }\n",
              "\n",
              "    .dataframe thead th {\n",
              "        text-align: right;\n",
              "    }\n",
              "</style>\n",
              "<table border=\"1\" class=\"dataframe\">\n",
              "  <thead>\n",
              "    <tr style=\"text-align: right;\">\n",
              "      <th></th>\n",
              "      <th>Anomaly short description</th>\n",
              "      <th>Anomaly long description</th>\n",
              "    </tr>\n",
              "    <tr>\n",
              "      <th>Feature name</th>\n",
              "      <th></th>\n",
              "      <th></th>\n",
              "    </tr>\n",
              "  </thead>\n",
              "  <tbody>\n",
              "    <tr>\n",
              "      <th>'predicted_churned'</th>\n",
              "      <td>High Linfty distance between current and previous</td>\n",
              "      <td>The Linfty distance between current and previous is 0.232767 (up to six significant digits), above the threshold 0.1. The feature value with maximum difference is: 1</td>\n",
              "    </tr>\n",
              "  </tbody>\n",
              "</table>\n",
              "</div>\n",
              "    <div class=\"colab-df-buttons\">\n",
              "\n",
              "  <div class=\"colab-df-container\">\n",
              "    <button class=\"colab-df-convert\" onclick=\"convertToInteractive('df-c526506c-1f2a-4763-8696-a632180f3ef6')\"\n",
              "            title=\"Convert this dataframe to an interactive table.\"\n",
              "            style=\"display:none;\">\n",
              "\n",
              "  <svg xmlns=\"http://www.w3.org/2000/svg\" height=\"24px\" viewBox=\"0 -960 960 960\">\n",
              "    <path d=\"M120-120v-720h720v720H120Zm60-500h600v-160H180v160Zm220 220h160v-160H400v160Zm0 220h160v-160H400v160ZM180-400h160v-160H180v160Zm440 0h160v-160H620v160ZM180-180h160v-160H180v160Zm440 0h160v-160H620v160Z\"/>\n",
              "  </svg>\n",
              "    </button>\n",
              "\n",
              "  <style>\n",
              "    .colab-df-container {\n",
              "      display:flex;\n",
              "      gap: 12px;\n",
              "    }\n",
              "\n",
              "    .colab-df-convert {\n",
              "      background-color: #E8F0FE;\n",
              "      border: none;\n",
              "      border-radius: 50%;\n",
              "      cursor: pointer;\n",
              "      display: none;\n",
              "      fill: #1967D2;\n",
              "      height: 32px;\n",
              "      padding: 0 0 0 0;\n",
              "      width: 32px;\n",
              "    }\n",
              "\n",
              "    .colab-df-convert:hover {\n",
              "      background-color: #E2EBFA;\n",
              "      box-shadow: 0px 1px 2px rgba(60, 64, 67, 0.3), 0px 1px 3px 1px rgba(60, 64, 67, 0.15);\n",
              "      fill: #174EA6;\n",
              "    }\n",
              "\n",
              "    .colab-df-buttons div {\n",
              "      margin-bottom: 4px;\n",
              "    }\n",
              "\n",
              "    [theme=dark] .colab-df-convert {\n",
              "      background-color: #3B4455;\n",
              "      fill: #D2E3FC;\n",
              "    }\n",
              "\n",
              "    [theme=dark] .colab-df-convert:hover {\n",
              "      background-color: #434B5C;\n",
              "      box-shadow: 0px 1px 3px 1px rgba(0, 0, 0, 0.15);\n",
              "      filter: drop-shadow(0px 1px 2px rgba(0, 0, 0, 0.3));\n",
              "      fill: #FFFFFF;\n",
              "    }\n",
              "  </style>\n",
              "\n",
              "    <script>\n",
              "      const buttonEl =\n",
              "        document.querySelector('#df-c526506c-1f2a-4763-8696-a632180f3ef6 button.colab-df-convert');\n",
              "      buttonEl.style.display =\n",
              "        google.colab.kernel.accessAllowed ? 'block' : 'none';\n",
              "\n",
              "      async function convertToInteractive(key) {\n",
              "        const element = document.querySelector('#df-c526506c-1f2a-4763-8696-a632180f3ef6');\n",
              "        const dataTable =\n",
              "          await google.colab.kernel.invokeFunction('convertToInteractive',\n",
              "                                                    [key], {});\n",
              "        if (!dataTable) return;\n",
              "\n",
              "        const docLinkHtml = 'Like what you see? Visit the ' +\n",
              "          '<a target=\"_blank\" href=https://colab.research.google.com/notebooks/data_table.ipynb>data table notebook</a>'\n",
              "          + ' to learn more about interactive tables.';\n",
              "        element.innerHTML = '';\n",
              "        dataTable['output_type'] = 'display_data';\n",
              "        await google.colab.output.renderOutput(dataTable, element);\n",
              "        const docLink = document.createElement('div');\n",
              "        docLink.innerHTML = docLinkHtml;\n",
              "        element.appendChild(docLink);\n",
              "      }\n",
              "    </script>\n",
              "  </div>\n",
              "\n",
              "\n",
              "    </div>\n",
              "  </div>\n"
            ],
            "application/vnd.google.colaboratory.intrinsic+json": {
              "type": "dataframe",
              "summary": "{\n  \"name\": \"    print(e)\",\n  \"rows\": 1,\n  \"fields\": [\n    {\n      \"column\": \"Feature name\",\n      \"properties\": {\n        \"dtype\": \"string\",\n        \"num_unique_values\": 1,\n        \"samples\": [\n          \"'predicted_churned'\"\n        ],\n        \"semantic_type\": \"\",\n        \"description\": \"\"\n      }\n    },\n    {\n      \"column\": \"Anomaly short description\",\n      \"properties\": {\n        \"dtype\": \"string\",\n        \"num_unique_values\": 1,\n        \"samples\": [\n          \"High Linfty distance between current and previous\"\n        ],\n        \"semantic_type\": \"\",\n        \"description\": \"\"\n      }\n    },\n    {\n      \"column\": \"Anomaly long description\",\n      \"properties\": {\n        \"dtype\": \"string\",\n        \"num_unique_values\": 1,\n        \"samples\": [\n          \"The Linfty distance between current and previous is 0.232767 (up to six significant digits), above the threshold 0.1. The feature value with maximum difference is: 1\"\n        ],\n        \"semantic_type\": \"\",\n        \"description\": \"\"\n      }\n    }\n  ]\n}"
            }
          },
          "metadata": {}
        }
      ],
      "source": [
        "try:\n",
        "    my_model_monitor.show_output_drift_stats(model_monitoring_job_2.name)\n",
        "except Exception as e:\n",
        "    print(e)"
      ]
    },
    {
      "cell_type": "markdown",
      "metadata": {
        "id": "hovSbsmBmEKZ"
      },
      "source": [
        "### Step 6: Clean Up\n",
        "\n",
        "If you no longer need your model monitoring resources, run the following to delete them:"
      ]
    },
    {
      "cell_type": "code",
      "execution_count": null,
      "metadata": {
        "id": "ejHg5PqiJPS2"
      },
      "outputs": [],
      "source": [
        "# Delete the model monitor\n",
        "my_model_monitor.delete(force=True)\n",
        "\n",
        "# Delete the model\n",
        "model.delete()"
      ]
    },
    {
      "cell_type": "markdown",
      "source": [],
      "metadata": {
        "id": "LOf3mbiWNwqa"
      }
    }
  ],
  "metadata": {
    "colab": {
      "toc_visible": true,
      "provenance": [],
      "include_colab_link": true
    },
    "kernelspec": {
      "display_name": "Python 3",
      "name": "python3"
    }
  },
  "nbformat": 4,
  "nbformat_minor": 0
}